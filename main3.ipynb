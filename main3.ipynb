{
 "cells": [
  {
   "cell_type": "code",
   "execution_count": 1,
   "metadata": {},
   "outputs": [],
   "source": [
    "import pandas as pd\n",
    "import numpy as np\n",
    "import seaborn as sns\n",
    "import matplotlib.pyplot as plt\n",
    "import warnings\n",
    "warnings.filterwarnings(\"ignore\")"
   ]
  },
  {
   "cell_type": "markdown",
   "metadata": {},
   "source": [
    "# Read data "
   ]
  },
  {
   "cell_type": "code",
   "execution_count": 2,
   "metadata": {},
   "outputs": [],
   "source": [
    "df = pd.read_json(\"interaction.json\", lines=True)"
   ]
  },
  {
   "cell_type": "code",
   "execution_count": 3,
   "metadata": {},
   "outputs": [
    {
     "data": {
      "text/html": [
       "<div>\n",
       "<style scoped>\n",
       "    .dataframe tbody tr th:only-of-type {\n",
       "        vertical-align: middle;\n",
       "    }\n",
       "\n",
       "    .dataframe tbody tr th {\n",
       "        vertical-align: top;\n",
       "    }\n",
       "\n",
       "    .dataframe thead th {\n",
       "        text-align: right;\n",
       "    }\n",
       "</style>\n",
       "<table border=\"1\" class=\"dataframe\">\n",
       "  <thead>\n",
       "    <tr style=\"text-align: right;\">\n",
       "      <th></th>\n",
       "      <th>Item</th>\n",
       "    </tr>\n",
       "  </thead>\n",
       "  <tbody>\n",
       "    <tr>\n",
       "      <th>0</th>\n",
       "      <td>{'visitorId': {'S': '23a9d176cb0a6f4e41f26bb61...</td>\n",
       "    </tr>\n",
       "    <tr>\n",
       "      <th>1</th>\n",
       "      <td>{'visitorId': {'S': '820c8d6b90bfc3154ea241f20...</td>\n",
       "    </tr>\n",
       "    <tr>\n",
       "      <th>2</th>\n",
       "      <td>{'visitorId': {'S': '906053f95a33732f207cdded4...</td>\n",
       "    </tr>\n",
       "    <tr>\n",
       "      <th>3</th>\n",
       "      <td>{'visitorId': {'S': 'de3043ff16009134fe548446c...</td>\n",
       "    </tr>\n",
       "    <tr>\n",
       "      <th>4</th>\n",
       "      <td>{'visitorId': {'S': '1a48d73af464a96f4b7365261...</td>\n",
       "    </tr>\n",
       "  </tbody>\n",
       "</table>\n",
       "</div>"
      ],
      "text/plain": [
       "                                                Item\n",
       "0  {'visitorId': {'S': '23a9d176cb0a6f4e41f26bb61...\n",
       "1  {'visitorId': {'S': '820c8d6b90bfc3154ea241f20...\n",
       "2  {'visitorId': {'S': '906053f95a33732f207cdded4...\n",
       "3  {'visitorId': {'S': 'de3043ff16009134fe548446c...\n",
       "4  {'visitorId': {'S': '1a48d73af464a96f4b7365261..."
      ]
     },
     "execution_count": 3,
     "metadata": {},
     "output_type": "execute_result"
    }
   ],
   "source": [
    "df.head()"
   ]
  },
  {
   "cell_type": "markdown",
   "metadata": {},
   "source": [
    "# Inspect some data rows"
   ]
  },
  {
   "cell_type": "code",
   "execution_count": 4,
   "metadata": {},
   "outputs": [
    {
     "name": "stdout",
     "output_type": "stream",
     "text": [
      "Item    {'visitorId': {'S': '23a9d176cb0a6f4e41f26bb61167bd78'}, 'eventId': {'S': 'job-search-waitstaff'}, 'ttl': {'N': '1631185958.2'}, 'data': {'M': {'viewedAt': {'S': '2021-08-10T11:12:37.145Z'}, 'where': {'S': 'All Adelaide SA'}, 'source': {'S': 'web'}, 'roleId': {'S': 'waitstaff'}}}}\n",
      "Name: 0, dtype: object \n",
      "\n",
      "Item    {'visitorId': {'S': '0b5d818cc24db9cc369bc2d452ee1676'}, 'eventId': {'S': 'job-search-business-administration-trainee'}, 'ttl': {'N': '1631151475.099'}, 'data': {'M': {'viewedAt': {'S': '2021-08-10T01:37:54.127Z'}, 'source': {'S': 'web'}, 'keywords': {'S': 'cs energy'}, 'roleId': {'S': 'business-administration-trainee'}}}}\n",
      "Name: 10, dtype: object \n",
      "\n",
      "Item    {'visitorId': {'S': '1b39806bc72c5d2a1c088128fee7c51c'}, 'eventId': {'S': 'job-view-53088493'}, 'ttl': {'N': '1629937817.11'}, 'data': {'M': {'jobId': {'S': '53088493'}, 'roleId': {'S': 'team-member'}, 'locationId': {'N': '1004'}, 'workType': {'S': 'Casual/Vacation'}, 'viewedAt': {'S': '2021-07-27T00:30:16.231Z'}, 'source': {'S': 'web'}, 'class': {'N': '6043'}}}}\n",
      "Name: 100, dtype: object \n",
      "\n"
     ]
    }
   ],
   "source": [
    "pd.options.display.max_colwidth = 1000\n",
    "print(df.loc[0],\"\\n\")\n",
    "print(df.loc[10],\"\\n\")\n",
    "print(df.loc[100],\"\\n\")"
   ]
  },
  {
   "cell_type": "markdown",
   "metadata": {},
   "source": [
    "# Transition into Tabular data"
   ]
  },
  {
   "cell_type": "markdown",
   "metadata": {},
   "source": [
    "## High-level Keys"
   ]
  },
  {
   "cell_type": "code",
   "execution_count": 5,
   "metadata": {},
   "outputs": [
    {
     "data": {
      "text/html": [
       "<div>\n",
       "<style scoped>\n",
       "    .dataframe tbody tr th:only-of-type {\n",
       "        vertical-align: middle;\n",
       "    }\n",
       "\n",
       "    .dataframe tbody tr th {\n",
       "        vertical-align: top;\n",
       "    }\n",
       "\n",
       "    .dataframe thead th {\n",
       "        text-align: right;\n",
       "    }\n",
       "</style>\n",
       "<table border=\"1\" class=\"dataframe\">\n",
       "  <thead>\n",
       "    <tr style=\"text-align: right;\">\n",
       "      <th></th>\n",
       "      <th>visitorId</th>\n",
       "      <th>eventId</th>\n",
       "      <th>ttl</th>\n",
       "      <th>data</th>\n",
       "    </tr>\n",
       "  </thead>\n",
       "  <tbody>\n",
       "    <tr>\n",
       "      <th>0</th>\n",
       "      <td>23a9d176cb0a6f4e41f26bb61167bd78</td>\n",
       "      <td>job-search-waitstaff</td>\n",
       "      <td>1631185958.2</td>\n",
       "      <td>{'viewedAt': {'S': '2021-08-10T11:12:37.145Z'}, 'where': {'S': 'All Adelaide SA'}, 'source': {'S': 'web'}, 'roleId': {'S': 'waitstaff'}}</td>\n",
       "    </tr>\n",
       "    <tr>\n",
       "      <th>1</th>\n",
       "      <td>820c8d6b90bfc3154ea241f20383313c</td>\n",
       "      <td>job-view-52939023</td>\n",
       "      <td>1629198877.076</td>\n",
       "      <td>{'jobId': {'S': '52939023'}, 'roleId': {'S': 'care-coordinator'}, 'locationId': {'N': '5061'}, 'workType': {'S': 'Full Time'}, 'viewedAt': {'S': '2021-07-18T11:14:36.259Z'}, 'source': {'S': 'web'}, 'class': {'N': '6163'}}</td>\n",
       "    </tr>\n",
       "    <tr>\n",
       "      <th>2</th>\n",
       "      <td>906053f95a33732f207cdded4ebcb320</td>\n",
       "      <td>job-search-aged-care-physiotherapist</td>\n",
       "      <td>1629873562.072</td>\n",
       "      <td>{'viewedAt': {'S': '2021-07-26T06:39:21.174Z'}, 'where': {'S': 'Rockhampton &amp; Capricorn Coast QLD'}, 'source': {'S': 'web'}, 'keywords': {'S': 'physiotherapist'}, 'roleId': {'S': 'aged-care-physiotherapist'}}</td>\n",
       "    </tr>\n",
       "    <tr>\n",
       "      <th>3</th>\n",
       "      <td>de3043ff16009134fe548446c1b84b1f</td>\n",
       "      <td>job-search-business-development</td>\n",
       "      <td>1631236371.018</td>\n",
       "      <td>{'viewedAt': {'S': '2021-08-11T01:12:50.446Z'}, 'source': {'S': 'web'}, 'keywords': {'S': 'intern'}, 'roleId': {'S': 'business-development'}}</td>\n",
       "    </tr>\n",
       "    <tr>\n",
       "      <th>4</th>\n",
       "      <td>1a48d73af464a96f4b7365261d605147</td>\n",
       "      <td>job-search-office-administrator</td>\n",
       "      <td>1630667899.384</td>\n",
       "      <td>{'viewedAt': {'S': '2021-08-04T11:18:18.968Z'}, 'where': {'S': 'All Canberra ACT'}, 'source': {'S': 'web'}, 'keywords': {'S': 'no experience'}, 'roleId': {'S': 'office-administrator'}}</td>\n",
       "    </tr>\n",
       "  </tbody>\n",
       "</table>\n",
       "</div>"
      ],
      "text/plain": [
       "                          visitorId                               eventId  \\\n",
       "0  23a9d176cb0a6f4e41f26bb61167bd78                  job-search-waitstaff   \n",
       "1  820c8d6b90bfc3154ea241f20383313c                     job-view-52939023   \n",
       "2  906053f95a33732f207cdded4ebcb320  job-search-aged-care-physiotherapist   \n",
       "3  de3043ff16009134fe548446c1b84b1f       job-search-business-development   \n",
       "4  1a48d73af464a96f4b7365261d605147       job-search-office-administrator   \n",
       "\n",
       "              ttl  \\\n",
       "0    1631185958.2   \n",
       "1  1629198877.076   \n",
       "2  1629873562.072   \n",
       "3  1631236371.018   \n",
       "4  1630667899.384   \n",
       "\n",
       "                                                                                                                                                                                                                            data  \n",
       "0                                                                                       {'viewedAt': {'S': '2021-08-10T11:12:37.145Z'}, 'where': {'S': 'All Adelaide SA'}, 'source': {'S': 'web'}, 'roleId': {'S': 'waitstaff'}}  \n",
       "1  {'jobId': {'S': '52939023'}, 'roleId': {'S': 'care-coordinator'}, 'locationId': {'N': '5061'}, 'workType': {'S': 'Full Time'}, 'viewedAt': {'S': '2021-07-18T11:14:36.259Z'}, 'source': {'S': 'web'}, 'class': {'N': '6163'}}  \n",
       "2               {'viewedAt': {'S': '2021-07-26T06:39:21.174Z'}, 'where': {'S': 'Rockhampton & Capricorn Coast QLD'}, 'source': {'S': 'web'}, 'keywords': {'S': 'physiotherapist'}, 'roleId': {'S': 'aged-care-physiotherapist'}}  \n",
       "3                                                                                  {'viewedAt': {'S': '2021-08-11T01:12:50.446Z'}, 'source': {'S': 'web'}, 'keywords': {'S': 'intern'}, 'roleId': {'S': 'business-development'}}  \n",
       "4                                       {'viewedAt': {'S': '2021-08-04T11:18:18.968Z'}, 'where': {'S': 'All Canberra ACT'}, 'source': {'S': 'web'}, 'keywords': {'S': 'no experience'}, 'roleId': {'S': 'office-administrator'}}  "
      ]
     },
     "execution_count": 5,
     "metadata": {},
     "output_type": "execute_result"
    }
   ],
   "source": [
    "res = pd.DataFrame()\n",
    "res[\"visitorId\"] = [s[\"visitorId\"][\"S\"] for s in df[\"Item\"]]\n",
    "res[\"eventId\"] = [s[\"eventId\"][\"S\"] for s in df[\"Item\"]]\n",
    "res[\"ttl\"] = [s[\"ttl\"][\"N\"] for s in df[\"Item\"]]\n",
    "res[\"data\"] = [s[\"data\"][\"M\"] for s in df[\"Item\"]]\n",
    "res.head()"
   ]
  },
  {
   "cell_type": "markdown",
   "metadata": {},
   "source": [
    "## Separate three type of events\n",
    "This is because we see that the additional data is dependent on the type of event, so it will be easier to further flatten the data if we dedicate separate tabular dataframes to each type of event "
   ]
  },
  {
   "cell_type": "code",
   "execution_count": 6,
   "metadata": {},
   "outputs": [],
   "source": [
    "def get_sub_data(df, targetColumn, substring, newColumName):\n",
    "    res = df[df[targetColumn].str.contains(substring)]\n",
    "    res[targetColumn] = [s.replace(substring, \"\") for s in res[targetColumn]]\n",
    "    res = res.rename(columns={targetColumn: newColumName})\n",
    "    return res\n",
    "\n",
    "def collect_all_keys(df, col):\n",
    "    allKeys = []\n",
    "    for s in df[col]:\n",
    "        allKeys.extend(s.keys())\n",
    "        \n",
    "    return set(allKeys)\n",
    "\n",
    "def clean_type_value_pair(pair):\n",
    "    if pair == None:\n",
    "        return np.nan\n",
    "    if 'N' in pair:\n",
    "        return int(pair['N'])\n",
    "    elif 'S':\n",
    "        return str(pair['S'])\n",
    "    \n",
    "def enrich_columns(df, targetColumn):\n",
    "    subColumns = collect_all_keys(df, targetColumn)\n",
    "    for col in subColumns:\n",
    "        df[col] = [clean_type_value_pair(s.get(col)) for s in df[targetColumn]]# time stamp\n",
    "    return df.drop(columns=[targetColumn])"
   ]
  },
  {
   "cell_type": "markdown",
   "metadata": {},
   "source": [
    "## Event: Job Search"
   ]
  },
  {
   "cell_type": "code",
   "execution_count": 7,
   "metadata": {},
   "outputs": [
    {
     "data": {
      "text/html": [
       "<div>\n",
       "<style scoped>\n",
       "    .dataframe tbody tr th:only-of-type {\n",
       "        vertical-align: middle;\n",
       "    }\n",
       "\n",
       "    .dataframe tbody tr th {\n",
       "        vertical-align: top;\n",
       "    }\n",
       "\n",
       "    .dataframe thead th {\n",
       "        text-align: right;\n",
       "    }\n",
       "</style>\n",
       "<table border=\"1\" class=\"dataframe\">\n",
       "  <thead>\n",
       "    <tr style=\"text-align: right;\">\n",
       "      <th></th>\n",
       "      <th>visitorId</th>\n",
       "      <th>job_name</th>\n",
       "      <th>ttl</th>\n",
       "      <th>roleId</th>\n",
       "      <th>where</th>\n",
       "      <th>source</th>\n",
       "      <th>viewedAt</th>\n",
       "      <th>keywords</th>\n",
       "    </tr>\n",
       "  </thead>\n",
       "  <tbody>\n",
       "    <tr>\n",
       "      <th>0</th>\n",
       "      <td>23a9d176cb0a6f4e41f26bb61167bd78</td>\n",
       "      <td>waitstaff</td>\n",
       "      <td>1631185958.2</td>\n",
       "      <td>waitstaff</td>\n",
       "      <td>All Adelaide SA</td>\n",
       "      <td>web</td>\n",
       "      <td>2021-08-10T11:12:37.145Z</td>\n",
       "      <td>NaN</td>\n",
       "    </tr>\n",
       "    <tr>\n",
       "      <th>2</th>\n",
       "      <td>906053f95a33732f207cdded4ebcb320</td>\n",
       "      <td>aged-care-physiotherapist</td>\n",
       "      <td>1629873562.072</td>\n",
       "      <td>aged-care-physiotherapist</td>\n",
       "      <td>Rockhampton &amp; Capricorn Coast QLD</td>\n",
       "      <td>web</td>\n",
       "      <td>2021-07-26T06:39:21.174Z</td>\n",
       "      <td>physiotherapist</td>\n",
       "    </tr>\n",
       "    <tr>\n",
       "      <th>3</th>\n",
       "      <td>de3043ff16009134fe548446c1b84b1f</td>\n",
       "      <td>business-development</td>\n",
       "      <td>1631236371.018</td>\n",
       "      <td>business-development</td>\n",
       "      <td>NaN</td>\n",
       "      <td>web</td>\n",
       "      <td>2021-08-11T01:12:50.446Z</td>\n",
       "      <td>intern</td>\n",
       "    </tr>\n",
       "    <tr>\n",
       "      <th>4</th>\n",
       "      <td>1a48d73af464a96f4b7365261d605147</td>\n",
       "      <td>office-administrator</td>\n",
       "      <td>1630667899.384</td>\n",
       "      <td>office-administrator</td>\n",
       "      <td>All Canberra ACT</td>\n",
       "      <td>web</td>\n",
       "      <td>2021-08-04T11:18:18.968Z</td>\n",
       "      <td>no experience</td>\n",
       "    </tr>\n",
       "    <tr>\n",
       "      <th>5</th>\n",
       "      <td>87ab366c176cfcd792d4da020fabed78</td>\n",
       "      <td>Warehouse-Administration-Officer</td>\n",
       "      <td>1629597413.083</td>\n",
       "      <td>Warehouse-Administration-Officer</td>\n",
       "      <td>NaN</td>\n",
       "      <td>web</td>\n",
       "      <td>2021-07-23T01:56:52.167Z</td>\n",
       "      <td>NaN</td>\n",
       "    </tr>\n",
       "  </tbody>\n",
       "</table>\n",
       "</div>"
      ],
      "text/plain": [
       "                          visitorId                          job_name  \\\n",
       "0  23a9d176cb0a6f4e41f26bb61167bd78                         waitstaff   \n",
       "2  906053f95a33732f207cdded4ebcb320         aged-care-physiotherapist   \n",
       "3  de3043ff16009134fe548446c1b84b1f              business-development   \n",
       "4  1a48d73af464a96f4b7365261d605147              office-administrator   \n",
       "5  87ab366c176cfcd792d4da020fabed78  Warehouse-Administration-Officer   \n",
       "\n",
       "              ttl                            roleId  \\\n",
       "0    1631185958.2                         waitstaff   \n",
       "2  1629873562.072         aged-care-physiotherapist   \n",
       "3  1631236371.018              business-development   \n",
       "4  1630667899.384              office-administrator   \n",
       "5  1629597413.083  Warehouse-Administration-Officer   \n",
       "\n",
       "                               where source                  viewedAt  \\\n",
       "0                    All Adelaide SA    web  2021-08-10T11:12:37.145Z   \n",
       "2  Rockhampton & Capricorn Coast QLD    web  2021-07-26T06:39:21.174Z   \n",
       "3                                NaN    web  2021-08-11T01:12:50.446Z   \n",
       "4                   All Canberra ACT    web  2021-08-04T11:18:18.968Z   \n",
       "5                                NaN    web  2021-07-23T01:56:52.167Z   \n",
       "\n",
       "          keywords  \n",
       "0              NaN  \n",
       "2  physiotherapist  \n",
       "3           intern  \n",
       "4    no experience  \n",
       "5              NaN  "
      ]
     },
     "execution_count": 7,
     "metadata": {},
     "output_type": "execute_result"
    }
   ],
   "source": [
    "jobSearchDf = get_sub_data(res, \"eventId\", \"job-search-\", \"job_name\")\n",
    "jobSearchDf = enrich_columns(jobSearchDf, \"data\")\n",
    "jobSearchDf.head()"
   ]
  },
  {
   "cell_type": "markdown",
   "metadata": {},
   "source": [
    "## Event: Job View"
   ]
  },
  {
   "cell_type": "code",
   "execution_count": 8,
   "metadata": {},
   "outputs": [
    {
     "data": {
      "text/html": [
       "<div>\n",
       "<style scoped>\n",
       "    .dataframe tbody tr th:only-of-type {\n",
       "        vertical-align: middle;\n",
       "    }\n",
       "\n",
       "    .dataframe tbody tr th {\n",
       "        vertical-align: top;\n",
       "    }\n",
       "\n",
       "    .dataframe thead th {\n",
       "        text-align: right;\n",
       "    }\n",
       "</style>\n",
       "<table border=\"1\" class=\"dataframe\">\n",
       "  <thead>\n",
       "    <tr style=\"text-align: right;\">\n",
       "      <th></th>\n",
       "      <th>visitorId</th>\n",
       "      <th>job_number</th>\n",
       "      <th>ttl</th>\n",
       "      <th>roleId</th>\n",
       "      <th>workType</th>\n",
       "      <th>jobId</th>\n",
       "      <th>locationId</th>\n",
       "      <th>source</th>\n",
       "      <th>viewedAt</th>\n",
       "      <th>class</th>\n",
       "    </tr>\n",
       "  </thead>\n",
       "  <tbody>\n",
       "    <tr>\n",
       "      <th>1</th>\n",
       "      <td>820c8d6b90bfc3154ea241f20383313c</td>\n",
       "      <td>52939023</td>\n",
       "      <td>1629198877.076</td>\n",
       "      <td>care-coordinator</td>\n",
       "      <td>Full Time</td>\n",
       "      <td>52939023</td>\n",
       "      <td>5061</td>\n",
       "      <td>web</td>\n",
       "      <td>2021-07-18T11:14:36.259Z</td>\n",
       "      <td>6163</td>\n",
       "    </tr>\n",
       "    <tr>\n",
       "      <th>6</th>\n",
       "      <td>3124ccf1f4a299a5a619cb69a5b2ac24</td>\n",
       "      <td>53096747</td>\n",
       "      <td>1629565817.937</td>\n",
       "      <td>warehouse-operator</td>\n",
       "      <td>Contract/Temp</td>\n",
       "      <td>53096747</td>\n",
       "      <td>1002</td>\n",
       "      <td>web</td>\n",
       "      <td>2021-07-22T17:10:16.919Z</td>\n",
       "      <td>6092</td>\n",
       "    </tr>\n",
       "    <tr>\n",
       "      <th>11</th>\n",
       "      <td>bd028c3b0e14f0c0ce9c157c50bcbc89</td>\n",
       "      <td>52765158</td>\n",
       "      <td>1629330148.315</td>\n",
       "      <td>safety-engineer</td>\n",
       "      <td>Full Time</td>\n",
       "      <td>52765158</td>\n",
       "      <td>1002</td>\n",
       "      <td>web</td>\n",
       "      <td>2021-07-19T23:42:27.565Z</td>\n",
       "      <td>1209</td>\n",
       "    </tr>\n",
       "    <tr>\n",
       "      <th>12</th>\n",
       "      <td>8204f1a52774ddf567403901aab347ec</td>\n",
       "      <td>52784534</td>\n",
       "      <td>1630154087.209</td>\n",
       "      <td>talent-acquisition-consultant</td>\n",
       "      <td>Full Time</td>\n",
       "      <td>52784534</td>\n",
       "      <td>1000</td>\n",
       "      <td>web</td>\n",
       "      <td>2021-07-29T12:34:46.642Z</td>\n",
       "      <td>1210</td>\n",
       "    </tr>\n",
       "    <tr>\n",
       "      <th>13</th>\n",
       "      <td>53278fbd8061da990a9e0715150e96db</td>\n",
       "      <td>52914193</td>\n",
       "      <td>1630199890.077</td>\n",
       "      <td>sales-support</td>\n",
       "      <td>Full Time</td>\n",
       "      <td>52914193</td>\n",
       "      <td>5047</td>\n",
       "      <td>web</td>\n",
       "      <td>2021-07-30T01:18:09.283Z</td>\n",
       "      <td>1204</td>\n",
       "    </tr>\n",
       "  </tbody>\n",
       "</table>\n",
       "</div>"
      ],
      "text/plain": [
       "                           visitorId job_number             ttl  \\\n",
       "1   820c8d6b90bfc3154ea241f20383313c   52939023  1629198877.076   \n",
       "6   3124ccf1f4a299a5a619cb69a5b2ac24   53096747  1629565817.937   \n",
       "11  bd028c3b0e14f0c0ce9c157c50bcbc89   52765158  1629330148.315   \n",
       "12  8204f1a52774ddf567403901aab347ec   52784534  1630154087.209   \n",
       "13  53278fbd8061da990a9e0715150e96db   52914193  1630199890.077   \n",
       "\n",
       "                           roleId       workType     jobId  locationId source  \\\n",
       "1                care-coordinator      Full Time  52939023        5061    web   \n",
       "6              warehouse-operator  Contract/Temp  53096747        1002    web   \n",
       "11                safety-engineer      Full Time  52765158        1002    web   \n",
       "12  talent-acquisition-consultant      Full Time  52784534        1000    web   \n",
       "13                  sales-support      Full Time  52914193        5047    web   \n",
       "\n",
       "                    viewedAt  class  \n",
       "1   2021-07-18T11:14:36.259Z   6163  \n",
       "6   2021-07-22T17:10:16.919Z   6092  \n",
       "11  2021-07-19T23:42:27.565Z   1209  \n",
       "12  2021-07-29T12:34:46.642Z   1210  \n",
       "13  2021-07-30T01:18:09.283Z   1204  "
      ]
     },
     "execution_count": 8,
     "metadata": {},
     "output_type": "execute_result"
    }
   ],
   "source": [
    "jobViewDf = get_sub_data(res, \"eventId\", \"job-view-\", \"job_number\")\n",
    "jobViewDf = enrich_columns(jobViewDf, \"data\")\n",
    "jobViewDf.head()"
   ]
  },
  {
   "cell_type": "markdown",
   "metadata": {},
   "source": [
    "## Event: Article View "
   ]
  },
  {
   "cell_type": "code",
   "execution_count": 9,
   "metadata": {},
   "outputs": [
    {
     "data": {
      "text/html": [
       "<div>\n",
       "<style scoped>\n",
       "    .dataframe tbody tr th:only-of-type {\n",
       "        vertical-align: middle;\n",
       "    }\n",
       "\n",
       "    .dataframe tbody tr th {\n",
       "        vertical-align: top;\n",
       "    }\n",
       "\n",
       "    .dataframe thead th {\n",
       "        text-align: right;\n",
       "    }\n",
       "</style>\n",
       "<table border=\"1\" class=\"dataframe\">\n",
       "  <thead>\n",
       "    <tr style=\"text-align: right;\">\n",
       "      <th></th>\n",
       "      <th>visitorId</th>\n",
       "      <th>article_name</th>\n",
       "      <th>ttl</th>\n",
       "      <th>alias</th>\n",
       "      <th>articleId</th>\n",
       "      <th>viewedAt</th>\n",
       "      <th>topCategoryId</th>\n",
       "      <th>mainCategoryId</th>\n",
       "      <th>tag</th>\n",
       "    </tr>\n",
       "  </thead>\n",
       "  <tbody>\n",
       "    <tr>\n",
       "      <th>32</th>\n",
       "      <td>1bb87dcbd0ee049d06dc435b3aa05715</td>\n",
       "      <td>the-5-skills-employers-want-now-and-how-to-show-them</td>\n",
       "      <td>1629182763.529</td>\n",
       "      <td>the-5-skills-employers-want-now-and-how-to-show-them</td>\n",
       "      <td>9090</td>\n",
       "      <td>2021-07-18T06:46:03.001Z</td>\n",
       "      <td>top-2</td>\n",
       "      <td>522</td>\n",
       "      <td>NaN</td>\n",
       "    </tr>\n",
       "    <tr>\n",
       "      <th>71</th>\n",
       "      <td>01fd8ac24911eeb68b02c57119590cd7</td>\n",
       "      <td>5-ways-to-deal-with-a-micromanaging-boss</td>\n",
       "      <td>1630782253.138</td>\n",
       "      <td>5-ways-to-deal-with-a-micromanaging-boss</td>\n",
       "      <td>701</td>\n",
       "      <td>2021-08-05T19:04:11.673Z</td>\n",
       "      <td>top-2</td>\n",
       "      <td>519</td>\n",
       "      <td>Settled</td>\n",
       "    </tr>\n",
       "    <tr>\n",
       "      <th>163</th>\n",
       "      <td>84a1de7f19962bb47229c8fa09ec45b9</td>\n",
       "      <td>5-ways-to-deal-with-a-micromanaging-boss</td>\n",
       "      <td>1629048840.676</td>\n",
       "      <td>5-ways-to-deal-with-a-micromanaging-boss</td>\n",
       "      <td>701</td>\n",
       "      <td>2021-07-16T17:33:59.421Z</td>\n",
       "      <td>top-2</td>\n",
       "      <td>519</td>\n",
       "      <td>Settled</td>\n",
       "    </tr>\n",
       "    <tr>\n",
       "      <th>282</th>\n",
       "      <td>6b058834e5f9b399d2f2a5acaed810f9</td>\n",
       "      <td>how-to-answer-where-do-you-see-yourself-in-5-years</td>\n",
       "      <td>1630297155.412</td>\n",
       "      <td>how-to-answer-where-do-you-see-yourself-in-5-years</td>\n",
       "      <td>331</td>\n",
       "      <td>2021-07-31T04:19:14.610Z</td>\n",
       "      <td>top-1</td>\n",
       "      <td>82</td>\n",
       "      <td>Active</td>\n",
       "    </tr>\n",
       "    <tr>\n",
       "      <th>295</th>\n",
       "      <td>be495cb086f0a1ac6e0b13ef2bbbe36b</td>\n",
       "      <td>free-resume-template</td>\n",
       "      <td>1628832286.052</td>\n",
       "      <td>free-resume-template</td>\n",
       "      <td>12</td>\n",
       "      <td>2021-07-14T05:24:45.205Z</td>\n",
       "      <td>top-0</td>\n",
       "      <td>289</td>\n",
       "      <td>Active</td>\n",
       "    </tr>\n",
       "  </tbody>\n",
       "</table>\n",
       "</div>"
      ],
      "text/plain": [
       "                            visitorId  \\\n",
       "32   1bb87dcbd0ee049d06dc435b3aa05715   \n",
       "71   01fd8ac24911eeb68b02c57119590cd7   \n",
       "163  84a1de7f19962bb47229c8fa09ec45b9   \n",
       "282  6b058834e5f9b399d2f2a5acaed810f9   \n",
       "295  be495cb086f0a1ac6e0b13ef2bbbe36b   \n",
       "\n",
       "                                             article_name             ttl  \\\n",
       "32   the-5-skills-employers-want-now-and-how-to-show-them  1629182763.529   \n",
       "71               5-ways-to-deal-with-a-micromanaging-boss  1630782253.138   \n",
       "163              5-ways-to-deal-with-a-micromanaging-boss  1629048840.676   \n",
       "282    how-to-answer-where-do-you-see-yourself-in-5-years  1630297155.412   \n",
       "295                                  free-resume-template  1628832286.052   \n",
       "\n",
       "                                                    alias  articleId  \\\n",
       "32   the-5-skills-employers-want-now-and-how-to-show-them       9090   \n",
       "71               5-ways-to-deal-with-a-micromanaging-boss        701   \n",
       "163              5-ways-to-deal-with-a-micromanaging-boss        701   \n",
       "282    how-to-answer-where-do-you-see-yourself-in-5-years        331   \n",
       "295                                  free-resume-template         12   \n",
       "\n",
       "                     viewedAt topCategoryId  mainCategoryId      tag  \n",
       "32   2021-07-18T06:46:03.001Z         top-2             522      NaN  \n",
       "71   2021-08-05T19:04:11.673Z         top-2             519  Settled  \n",
       "163  2021-07-16T17:33:59.421Z         top-2             519  Settled  \n",
       "282  2021-07-31T04:19:14.610Z         top-1              82   Active  \n",
       "295  2021-07-14T05:24:45.205Z         top-0             289   Active  "
      ]
     },
     "execution_count": 9,
     "metadata": {},
     "output_type": "execute_result"
    }
   ],
   "source": [
    "articleDf = get_sub_data(res, \"eventId\", \"article-view-\", \"article_name\")\n",
    "articleDf = enrich_columns(articleDf, \"data\")\n",
    "articleDf.head()"
   ]
  },
  {
   "cell_type": "code",
   "execution_count": 17,
   "metadata": {},
   "outputs": [],
   "source": [
    "def conversio_rate_calculation (x, y):\n",
    "    CR = x/y\n",
    "    return CR"
   ]
  },
  {
   "cell_type": "code",
   "execution_count": 19,
   "metadata": {},
   "outputs": [
    {
     "data": {
      "text/plain": [
       "(517620, 8)"
      ]
     },
     "execution_count": 19,
     "metadata": {},
     "output_type": "execute_result"
    }
   ],
   "source": [
    "jobSearchDf.shape"
   ]
  },
  {
   "cell_type": "code",
   "execution_count": 28,
   "metadata": {},
   "outputs": [
    {
     "data": {
      "text/plain": [
       "(560658, 10)"
      ]
     },
     "execution_count": 28,
     "metadata": {},
     "output_type": "execute_result"
    }
   ],
   "source": [
    "jobViewDf.shape"
   ]
  },
  {
   "cell_type": "code",
   "execution_count": 29,
   "metadata": {},
   "outputs": [
    {
     "data": {
      "text/plain": [
       "(17695, 9)"
      ]
     },
     "execution_count": 29,
     "metadata": {},
     "output_type": "execute_result"
    }
   ],
   "source": [
    "articleDf.shape"
   ]
  },
  {
   "cell_type": "markdown",
   "metadata": {},
   "source": [
    "# Merge Actions"
   ]
  },
  {
   "cell_type": "markdown",
   "metadata": {},
   "source": [
    "## job search and job view on visitorId #1"
   ]
  },
  {
   "cell_type": "code",
   "execution_count": 14,
   "metadata": {},
   "outputs": [
    {
     "data": {
      "text/html": [
       "<div>\n",
       "<style scoped>\n",
       "    .dataframe tbody tr th:only-of-type {\n",
       "        vertical-align: middle;\n",
       "    }\n",
       "\n",
       "    .dataframe tbody tr th {\n",
       "        vertical-align: top;\n",
       "    }\n",
       "\n",
       "    .dataframe thead th {\n",
       "        text-align: right;\n",
       "    }\n",
       "</style>\n",
       "<table border=\"1\" class=\"dataframe\">\n",
       "  <thead>\n",
       "    <tr style=\"text-align: right;\">\n",
       "      <th></th>\n",
       "      <th>visitorId</th>\n",
       "      <th>job_name</th>\n",
       "      <th>ttl_x</th>\n",
       "      <th>roleId_x</th>\n",
       "      <th>where</th>\n",
       "      <th>source_x</th>\n",
       "      <th>viewedAt_x</th>\n",
       "      <th>keywords</th>\n",
       "      <th>job_number</th>\n",
       "      <th>ttl_y</th>\n",
       "      <th>roleId_y</th>\n",
       "      <th>workType</th>\n",
       "      <th>jobId</th>\n",
       "      <th>locationId</th>\n",
       "      <th>source_y</th>\n",
       "      <th>viewedAt_y</th>\n",
       "      <th>class</th>\n",
       "    </tr>\n",
       "  </thead>\n",
       "  <tbody>\n",
       "    <tr>\n",
       "      <th>0</th>\n",
       "      <td>af01d030e95292f2ae091d87fb950274</td>\n",
       "      <td>team-member</td>\n",
       "      <td>1631248159.538</td>\n",
       "      <td>team-member</td>\n",
       "      <td>bunbury</td>\n",
       "      <td>web</td>\n",
       "      <td>2021-08-11T04:29:18.748Z</td>\n",
       "      <td>cafe</td>\n",
       "      <td>53326017</td>\n",
       "      <td>1631251628.568</td>\n",
       "      <td>support-worker</td>\n",
       "      <td>Part Time</td>\n",
       "      <td>53326017</td>\n",
       "      <td>5047</td>\n",
       "      <td>web</td>\n",
       "      <td>2021-08-11T05:27:07.547Z</td>\n",
       "      <td>1211</td>\n",
       "    </tr>\n",
       "    <tr>\n",
       "      <th>1</th>\n",
       "      <td>d2baa6760f11aee816459898a8bf8c86</td>\n",
       "      <td>business-intelligence-developer</td>\n",
       "      <td>1629465376.819</td>\n",
       "      <td>business-intelligence-developer</td>\n",
       "      <td>All Melbourne VIC</td>\n",
       "      <td>web</td>\n",
       "      <td>2021-07-21T13:16:15.896Z</td>\n",
       "      <td>power bi developer</td>\n",
       "      <td>52966304</td>\n",
       "      <td>1629466020.362</td>\n",
       "      <td>pmo-analyst</td>\n",
       "      <td>Full Time</td>\n",
       "      <td>52966304</td>\n",
       "      <td>1002</td>\n",
       "      <td>web</td>\n",
       "      <td>2021-07-21T13:26:59.377Z</td>\n",
       "      <td>6281</td>\n",
       "    </tr>\n",
       "    <tr>\n",
       "      <th>2</th>\n",
       "      <td>3d27299f-a4aa-4a9d-a258-b0026c2fcd31</td>\n",
       "      <td>continuous-improvement-manager</td>\n",
       "      <td>1629703521.547</td>\n",
       "      <td>continuous-improvement-manager</td>\n",
       "      <td>All Brisbane QLD</td>\n",
       "      <td>web</td>\n",
       "      <td>2021-07-24T07:25:20.491Z</td>\n",
       "      <td>compliance</td>\n",
       "      <td>53166941</td>\n",
       "      <td>1630025320.978</td>\n",
       "      <td>safety-adviser</td>\n",
       "      <td>Full Time</td>\n",
       "      <td>53166941</td>\n",
       "      <td>1004</td>\n",
       "      <td>web</td>\n",
       "      <td>2021-07-28T00:48:40.112Z</td>\n",
       "      <td>1206</td>\n",
       "    </tr>\n",
       "    <tr>\n",
       "      <th>3</th>\n",
       "      <td>3d27299f-a4aa-4a9d-a258-b0026c2fcd31</td>\n",
       "      <td>continuous-improvement-manager</td>\n",
       "      <td>1629703521.547</td>\n",
       "      <td>continuous-improvement-manager</td>\n",
       "      <td>All Brisbane QLD</td>\n",
       "      <td>web</td>\n",
       "      <td>2021-07-24T07:25:20.491Z</td>\n",
       "      <td>compliance</td>\n",
       "      <td>53136111</td>\n",
       "      <td>1629967294.009</td>\n",
       "      <td>sheq-advisor_2</td>\n",
       "      <td>Full Time</td>\n",
       "      <td>53136111</td>\n",
       "      <td>5015</td>\n",
       "      <td>web</td>\n",
       "      <td>2021-07-27T08:41:33.351Z</td>\n",
       "      <td>6317</td>\n",
       "    </tr>\n",
       "    <tr>\n",
       "      <th>4</th>\n",
       "      <td>3d27299f-a4aa-4a9d-a258-b0026c2fcd31</td>\n",
       "      <td>case-assessor</td>\n",
       "      <td>1631234912.839</td>\n",
       "      <td>case-assessor</td>\n",
       "      <td>All Brisbane QLD</td>\n",
       "      <td>web</td>\n",
       "      <td>2021-08-11T00:48:32.098Z</td>\n",
       "      <td>compliance</td>\n",
       "      <td>53166941</td>\n",
       "      <td>1630025320.978</td>\n",
       "      <td>safety-adviser</td>\n",
       "      <td>Full Time</td>\n",
       "      <td>53166941</td>\n",
       "      <td>1004</td>\n",
       "      <td>web</td>\n",
       "      <td>2021-07-28T00:48:40.112Z</td>\n",
       "      <td>1206</td>\n",
       "    </tr>\n",
       "  </tbody>\n",
       "</table>\n",
       "</div>"
      ],
      "text/plain": [
       "                              visitorId                         job_name  \\\n",
       "0      af01d030e95292f2ae091d87fb950274                      team-member   \n",
       "1      d2baa6760f11aee816459898a8bf8c86  business-intelligence-developer   \n",
       "2  3d27299f-a4aa-4a9d-a258-b0026c2fcd31   continuous-improvement-manager   \n",
       "3  3d27299f-a4aa-4a9d-a258-b0026c2fcd31   continuous-improvement-manager   \n",
       "4  3d27299f-a4aa-4a9d-a258-b0026c2fcd31                    case-assessor   \n",
       "\n",
       "            ttl_x                         roleId_x              where  \\\n",
       "0  1631248159.538                      team-member            bunbury   \n",
       "1  1629465376.819  business-intelligence-developer  All Melbourne VIC   \n",
       "2  1629703521.547   continuous-improvement-manager   All Brisbane QLD   \n",
       "3  1629703521.547   continuous-improvement-manager   All Brisbane QLD   \n",
       "4  1631234912.839                    case-assessor   All Brisbane QLD   \n",
       "\n",
       "  source_x                viewedAt_x            keywords job_number  \\\n",
       "0      web  2021-08-11T04:29:18.748Z                cafe   53326017   \n",
       "1      web  2021-07-21T13:16:15.896Z  power bi developer   52966304   \n",
       "2      web  2021-07-24T07:25:20.491Z          compliance   53166941   \n",
       "3      web  2021-07-24T07:25:20.491Z          compliance   53136111   \n",
       "4      web  2021-08-11T00:48:32.098Z          compliance   53166941   \n",
       "\n",
       "            ttl_y        roleId_y   workType     jobId  locationId source_y  \\\n",
       "0  1631251628.568  support-worker  Part Time  53326017        5047      web   \n",
       "1  1629466020.362     pmo-analyst  Full Time  52966304        1002      web   \n",
       "2  1630025320.978  safety-adviser  Full Time  53166941        1004      web   \n",
       "3  1629967294.009  sheq-advisor_2  Full Time  53136111        5015      web   \n",
       "4  1630025320.978  safety-adviser  Full Time  53166941        1004      web   \n",
       "\n",
       "                 viewedAt_y  class  \n",
       "0  2021-08-11T05:27:07.547Z   1211  \n",
       "1  2021-07-21T13:26:59.377Z   6281  \n",
       "2  2021-07-28T00:48:40.112Z   1206  \n",
       "3  2021-07-27T08:41:33.351Z   6317  \n",
       "4  2021-07-28T00:48:40.112Z   1206  "
      ]
     },
     "execution_count": 14,
     "metadata": {},
     "output_type": "execute_result"
    }
   ],
   "source": [
    "jobSeachAndView1 = jobSearchDf.merge(jobViewDf, on=[\"visitorId\"], how=\"inner\")\n",
    "jobSeachAndView1.head()"
   ]
  },
  {
   "cell_type": "code",
   "execution_count": 18,
   "metadata": {},
   "outputs": [
    {
     "data": {
      "text/plain": [
       "(182323, 17)"
      ]
     },
     "execution_count": 18,
     "metadata": {},
     "output_type": "execute_result"
    }
   ],
   "source": [
    "jobSeachAndView1.shape"
   ]
  },
  {
   "cell_type": "code",
   "execution_count": 32,
   "metadata": {},
   "outputs": [
    {
     "name": "stdout",
     "output_type": "stream",
     "text": [
      "Conversion rate of job search to job view : 0.3522332985587883\n"
     ]
    }
   ],
   "source": [
    "CRforSearchandView1 = conversio_rate_calculation (182323, 517620)\n",
    "print ('Conversion rate of job search to job view :', CRforSearchandView1)"
   ]
  },
  {
   "cell_type": "code",
   "execution_count": 36,
   "metadata": {},
   "outputs": [
    {
     "data": {
      "text/plain": [
       "where\n",
       "All Melbourne VIC    19161\n",
       "All Sydney NSW       13282\n",
       "All Perth WA         12397\n",
       "All Brisbane QLD     10246\n",
       "All Adelaide SA       7305\n",
       "dtype: int64"
      ]
     },
     "execution_count": 36,
     "metadata": {},
     "output_type": "execute_result"
    }
   ],
   "source": [
    "GroupedDataSandV1 = jobSeachAndView1.groupby(by=\"where\").size().sort_values(ascending=False)\n",
    "GroupedDataSandV1.head() "
   ]
  },
  {
   "cell_type": "code",
   "execution_count": 35,
   "metadata": {},
   "outputs": [
    {
     "data": {
      "text/plain": [
       "<matplotlib.axes._subplots.AxesSubplot at 0x1ff9f0aff88>"
      ]
     },
     "execution_count": 35,
     "metadata": {},
     "output_type": "execute_result"
    },
    {
     "data": {
      "image/png": "[encoded data removed]",
      "text/plain": [
       "<Figure size 432x288 with 1 Axes>"
      ]
     },
     "metadata": {
      "needs_background": "light"
     },
     "output_type": "display_data"
    }
   ],
   "source": [
    "GroupedDataSandV1.plot.bar(color=['green'])"
   ]
  },
  {
   "cell_type": "markdown",
   "metadata": {},
   "source": [
    "## job search and article view on visitorId #1 "
   ]
  },
  {
   "cell_type": "code",
   "execution_count": 15,
   "metadata": {},
   "outputs": [
    {
     "data": {
      "text/html": [
       "<div>\n",
       "<style scoped>\n",
       "    .dataframe tbody tr th:only-of-type {\n",
       "        vertical-align: middle;\n",
       "    }\n",
       "\n",
       "    .dataframe tbody tr th {\n",
       "        vertical-align: top;\n",
       "    }\n",
       "\n",
       "    .dataframe thead th {\n",
       "        text-align: right;\n",
       "    }\n",
       "</style>\n",
       "<table border=\"1\" class=\"dataframe\">\n",
       "  <thead>\n",
       "    <tr style=\"text-align: right;\">\n",
       "      <th></th>\n",
       "      <th>visitorId</th>\n",
       "      <th>job_name</th>\n",
       "      <th>ttl_x</th>\n",
       "      <th>roleId</th>\n",
       "      <th>where</th>\n",
       "      <th>source</th>\n",
       "      <th>viewedAt_x</th>\n",
       "      <th>keywords</th>\n",
       "      <th>article_name</th>\n",
       "      <th>ttl_y</th>\n",
       "      <th>alias</th>\n",
       "      <th>articleId</th>\n",
       "      <th>viewedAt_y</th>\n",
       "      <th>topCategoryId</th>\n",
       "      <th>mainCategoryId</th>\n",
       "      <th>tag</th>\n",
       "    </tr>\n",
       "  </thead>\n",
       "  <tbody>\n",
       "    <tr>\n",
       "      <th>0</th>\n",
       "      <td>e5ba49e2e3d3e5dfceace7ff03753183</td>\n",
       "      <td>marketing-and-communications-manager</td>\n",
       "      <td>1629324979.76</td>\n",
       "      <td>marketing-and-communications-manager</td>\n",
       "      <td>All Canberra ACT</td>\n",
       "      <td>web</td>\n",
       "      <td>2021-07-19T22:16:19.193Z</td>\n",
       "      <td>NaN</td>\n",
       "      <td>4-things-your-cover-letter-must-include-this-year</td>\n",
       "      <td>1631138799.865</td>\n",
       "      <td>4-things-your-cover-letter-must-include-this-year</td>\n",
       "      <td>97</td>\n",
       "      <td>2021-08-09T22:06:38.885Z</td>\n",
       "      <td>top-1</td>\n",
       "      <td>516</td>\n",
       "      <td>Active</td>\n",
       "    </tr>\n",
       "    <tr>\n",
       "      <th>1</th>\n",
       "      <td>e5ba49e2e3d3e5dfceace7ff03753183</td>\n",
       "      <td>demolition-labourer</td>\n",
       "      <td>1630547671.972</td>\n",
       "      <td>demolition-labourer</td>\n",
       "      <td>All Canberra ACT</td>\n",
       "      <td>web</td>\n",
       "      <td>2021-08-03T01:54:30.969Z</td>\n",
       "      <td>NaN</td>\n",
       "      <td>4-things-your-cover-letter-must-include-this-year</td>\n",
       "      <td>1631138799.865</td>\n",
       "      <td>4-things-your-cover-letter-must-include-this-year</td>\n",
       "      <td>97</td>\n",
       "      <td>2021-08-09T22:06:38.885Z</td>\n",
       "      <td>top-1</td>\n",
       "      <td>516</td>\n",
       "      <td>Active</td>\n",
       "    </tr>\n",
       "    <tr>\n",
       "      <th>2</th>\n",
       "      <td>e5ba49e2e3d3e5dfceace7ff03753183</td>\n",
       "      <td>program-officer</td>\n",
       "      <td>1630733021.327</td>\n",
       "      <td>program-officer</td>\n",
       "      <td>All Canberra ACT</td>\n",
       "      <td>web</td>\n",
       "      <td>2021-08-05T05:23:40.505Z</td>\n",
       "      <td>NaN</td>\n",
       "      <td>4-things-your-cover-letter-must-include-this-year</td>\n",
       "      <td>1631138799.865</td>\n",
       "      <td>4-things-your-cover-letter-must-include-this-year</td>\n",
       "      <td>97</td>\n",
       "      <td>2021-08-09T22:06:38.885Z</td>\n",
       "      <td>top-1</td>\n",
       "      <td>516</td>\n",
       "      <td>Active</td>\n",
       "    </tr>\n",
       "    <tr>\n",
       "      <th>3</th>\n",
       "      <td>e5ba49e2e3d3e5dfceace7ff03753183</td>\n",
       "      <td>copywriter</td>\n",
       "      <td>1630732635.265</td>\n",
       "      <td>copywriter</td>\n",
       "      <td>All Canberra ACT</td>\n",
       "      <td>web</td>\n",
       "      <td>2021-08-05T05:17:14.726Z</td>\n",
       "      <td>NaN</td>\n",
       "      <td>4-things-your-cover-letter-must-include-this-year</td>\n",
       "      <td>1631138799.865</td>\n",
       "      <td>4-things-your-cover-letter-must-include-this-year</td>\n",
       "      <td>97</td>\n",
       "      <td>2021-08-09T22:06:38.885Z</td>\n",
       "      <td>top-1</td>\n",
       "      <td>516</td>\n",
       "      <td>Active</td>\n",
       "    </tr>\n",
       "    <tr>\n",
       "      <th>4</th>\n",
       "      <td>e5ba49e2e3d3e5dfceace7ff03753183</td>\n",
       "      <td>health-safety-and-environment-manager</td>\n",
       "      <td>1629324857.434</td>\n",
       "      <td>health-safety-and-environment-manager</td>\n",
       "      <td>All Canberra ACT</td>\n",
       "      <td>web</td>\n",
       "      <td>2021-07-19T22:14:17.060Z</td>\n",
       "      <td>NaN</td>\n",
       "      <td>4-things-your-cover-letter-must-include-this-year</td>\n",
       "      <td>1631138799.865</td>\n",
       "      <td>4-things-your-cover-letter-must-include-this-year</td>\n",
       "      <td>97</td>\n",
       "      <td>2021-08-09T22:06:38.885Z</td>\n",
       "      <td>top-1</td>\n",
       "      <td>516</td>\n",
       "      <td>Active</td>\n",
       "    </tr>\n",
       "  </tbody>\n",
       "</table>\n",
       "</div>"
      ],
      "text/plain": [
       "                          visitorId                               job_name  \\\n",
       "0  e5ba49e2e3d3e5dfceace7ff03753183   marketing-and-communications-manager   \n",
       "1  e5ba49e2e3d3e5dfceace7ff03753183                    demolition-labourer   \n",
       "2  e5ba49e2e3d3e5dfceace7ff03753183                        program-officer   \n",
       "3  e5ba49e2e3d3e5dfceace7ff03753183                             copywriter   \n",
       "4  e5ba49e2e3d3e5dfceace7ff03753183  health-safety-and-environment-manager   \n",
       "\n",
       "            ttl_x                                 roleId             where  \\\n",
       "0   1629324979.76   marketing-and-communications-manager  All Canberra ACT   \n",
       "1  1630547671.972                    demolition-labourer  All Canberra ACT   \n",
       "2  1630733021.327                        program-officer  All Canberra ACT   \n",
       "3  1630732635.265                             copywriter  All Canberra ACT   \n",
       "4  1629324857.434  health-safety-and-environment-manager  All Canberra ACT   \n",
       "\n",
       "  source                viewedAt_x keywords  \\\n",
       "0    web  2021-07-19T22:16:19.193Z      NaN   \n",
       "1    web  2021-08-03T01:54:30.969Z      NaN   \n",
       "2    web  2021-08-05T05:23:40.505Z      NaN   \n",
       "3    web  2021-08-05T05:17:14.726Z      NaN   \n",
       "4    web  2021-07-19T22:14:17.060Z      NaN   \n",
       "\n",
       "                                        article_name           ttl_y  \\\n",
       "0  4-things-your-cover-letter-must-include-this-year  1631138799.865   \n",
       "1  4-things-your-cover-letter-must-include-this-year  1631138799.865   \n",
       "2  4-things-your-cover-letter-must-include-this-year  1631138799.865   \n",
       "3  4-things-your-cover-letter-must-include-this-year  1631138799.865   \n",
       "4  4-things-your-cover-letter-must-include-this-year  1631138799.865   \n",
       "\n",
       "                                               alias  articleId  \\\n",
       "0  4-things-your-cover-letter-must-include-this-year         97   \n",
       "1  4-things-your-cover-letter-must-include-this-year         97   \n",
       "2  4-things-your-cover-letter-must-include-this-year         97   \n",
       "3  4-things-your-cover-letter-must-include-this-year         97   \n",
       "4  4-things-your-cover-letter-must-include-this-year         97   \n",
       "\n",
       "                 viewedAt_y topCategoryId  mainCategoryId     tag  \n",
       "0  2021-08-09T22:06:38.885Z         top-1             516  Active  \n",
       "1  2021-08-09T22:06:38.885Z         top-1             516  Active  \n",
       "2  2021-08-09T22:06:38.885Z         top-1             516  Active  \n",
       "3  2021-08-09T22:06:38.885Z         top-1             516  Active  \n",
       "4  2021-08-09T22:06:38.885Z         top-1             516  Active  "
      ]
     },
     "execution_count": 15,
     "metadata": {},
     "output_type": "execute_result"
    }
   ],
   "source": [
    "jobSeachAndArticle1 = jobSearchDf.merge(articleDf, on=[\"visitorId\"], how=\"inner\")\n",
    "jobSeachAndArticle1.head()"
   ]
  },
  {
   "cell_type": "code",
   "execution_count": 21,
   "metadata": {},
   "outputs": [
    {
     "data": {
      "text/plain": [
       "(854, 16)"
      ]
     },
     "execution_count": 21,
     "metadata": {},
     "output_type": "execute_result"
    }
   ],
   "source": [
    "jobSeachAndArticle1.shape"
   ]
  },
  {
   "cell_type": "code",
   "execution_count": 31,
   "metadata": {},
   "outputs": [
    {
     "name": "stdout",
     "output_type": "stream",
     "text": [
      "Conversion rate of job search to article view : 0.0016498589699006994\n"
     ]
    }
   ],
   "source": [
    "CRforSearchandArticle1 = conversio_rate_calculation (854, 517620)\n",
    "print ('Conversion rate of job search to article view :', CRforSearchandArticle1)"
   ]
  },
  {
   "cell_type": "code",
   "execution_count": 37,
   "metadata": {},
   "outputs": [
    {
     "data": {
      "text/plain": [
       "where\n",
       "All Melbourne VIC    118\n",
       "All Sydney NSW        70\n",
       "All Perth WA          58\n",
       "All Brisbane QLD      47\n",
       "All Adelaide SA       41\n",
       "dtype: int64"
      ]
     },
     "execution_count": 37,
     "metadata": {},
     "output_type": "execute_result"
    }
   ],
   "source": [
    "GroupedDataSandA1 = jobSeachAndArticle1.groupby(by=\"where\").size().sort_values(ascending=False)\n",
    "GroupedDataSandA1.head()"
   ]
  },
  {
   "cell_type": "code",
   "execution_count": 38,
   "metadata": {},
   "outputs": [
    {
     "data": {
      "text/plain": [
       "<matplotlib.axes._subplots.AxesSubplot at 0x1ffa209e248>"
      ]
     },
     "execution_count": 38,
     "metadata": {},
     "output_type": "execute_result"
    },
    {
     "data": {
      "image/png": "[encoded data removed]",
      "text/plain": [
       "<Figure size 432x288 with 1 Axes>"
      ]
     },
     "metadata": {
      "needs_background": "light"
     },
     "output_type": "display_data"
    }
   ],
   "source": [
    "GroupedDataSandA1.plot.bar(color=['green'])"
   ]
  },
  {
   "cell_type": "markdown",
   "metadata": {},
   "source": [
    "## job view and article view on visitorId #1 "
   ]
  },
  {
   "cell_type": "code",
   "execution_count": 16,
   "metadata": {},
   "outputs": [
    {
     "data": {
      "text/html": [
       "<div>\n",
       "<style scoped>\n",
       "    .dataframe tbody tr th:only-of-type {\n",
       "        vertical-align: middle;\n",
       "    }\n",
       "\n",
       "    .dataframe tbody tr th {\n",
       "        vertical-align: top;\n",
       "    }\n",
       "\n",
       "    .dataframe thead th {\n",
       "        text-align: right;\n",
       "    }\n",
       "</style>\n",
       "<table border=\"1\" class=\"dataframe\">\n",
       "  <thead>\n",
       "    <tr style=\"text-align: right;\">\n",
       "      <th></th>\n",
       "      <th>visitorId</th>\n",
       "      <th>job_number</th>\n",
       "      <th>ttl_x</th>\n",
       "      <th>roleId</th>\n",
       "      <th>workType</th>\n",
       "      <th>jobId</th>\n",
       "      <th>locationId</th>\n",
       "      <th>source</th>\n",
       "      <th>viewedAt_x</th>\n",
       "      <th>class</th>\n",
       "      <th>article_name</th>\n",
       "      <th>ttl_y</th>\n",
       "      <th>alias</th>\n",
       "      <th>articleId</th>\n",
       "      <th>viewedAt_y</th>\n",
       "      <th>topCategoryId</th>\n",
       "      <th>mainCategoryId</th>\n",
       "      <th>tag</th>\n",
       "    </tr>\n",
       "  </thead>\n",
       "  <tbody>\n",
       "    <tr>\n",
       "      <th>0</th>\n",
       "      <td>611cf4dab22cf959871bd17c06033038</td>\n",
       "      <td>52980275</td>\n",
       "      <td>1628913888.305</td>\n",
       "      <td>data-entry-officer</td>\n",
       "      <td>Contract/Temp</td>\n",
       "      <td>52980275</td>\n",
       "      <td>1015</td>\n",
       "      <td>web</td>\n",
       "      <td>2021-07-15T04:04:47.529Z</td>\n",
       "      <td>6251</td>\n",
       "      <td>4-ways-to-talk-confidently-about-your-skills</td>\n",
       "      <td>1629239903.735</td>\n",
       "      <td>4-ways-to-talk-confidently-about-your-skills</td>\n",
       "      <td>12712</td>\n",
       "      <td>2021-07-18T22:38:22.528Z</td>\n",
       "      <td>top-2</td>\n",
       "      <td>522</td>\n",
       "      <td>NaN</td>\n",
       "    </tr>\n",
       "    <tr>\n",
       "      <th>1</th>\n",
       "      <td>b9c28b29e8ba56c15c80160fd02d5a00</td>\n",
       "      <td>53370609</td>\n",
       "      <td>1631081422.577</td>\n",
       "      <td>marketing-communications-manager</td>\n",
       "      <td>Full Time</td>\n",
       "      <td>53370609</td>\n",
       "      <td>1000</td>\n",
       "      <td>web</td>\n",
       "      <td>2021-08-09T06:10:21.971Z</td>\n",
       "      <td>6008</td>\n",
       "      <td>8-things-you-didnt-know-you-could-be-fired-for</td>\n",
       "      <td>1628767581.864</td>\n",
       "      <td>8-things-you-didnt-know-you-could-be-fired-for</td>\n",
       "      <td>8233</td>\n",
       "      <td>2021-07-13T11:26:21.494Z</td>\n",
       "      <td>top-2</td>\n",
       "      <td>521</td>\n",
       "      <td>NaN</td>\n",
       "    </tr>\n",
       "    <tr>\n",
       "      <th>2</th>\n",
       "      <td>b9c28b29e8ba56c15c80160fd02d5a00</td>\n",
       "      <td>53177099</td>\n",
       "      <td>1630046188.4</td>\n",
       "      <td>consultant</td>\n",
       "      <td>Contract/Temp</td>\n",
       "      <td>53177099</td>\n",
       "      <td>1000</td>\n",
       "      <td>web</td>\n",
       "      <td>2021-07-28T06:36:28.052Z</td>\n",
       "      <td>6163</td>\n",
       "      <td>8-things-you-didnt-know-you-could-be-fired-for</td>\n",
       "      <td>1628767581.864</td>\n",
       "      <td>8-things-you-didnt-know-you-could-be-fired-for</td>\n",
       "      <td>8233</td>\n",
       "      <td>2021-07-13T11:26:21.494Z</td>\n",
       "      <td>top-2</td>\n",
       "      <td>521</td>\n",
       "      <td>NaN</td>\n",
       "    </tr>\n",
       "    <tr>\n",
       "      <th>3</th>\n",
       "      <td>b9c28b29e8ba56c15c80160fd02d5a00</td>\n",
       "      <td>53188289</td>\n",
       "      <td>1630071077.598</td>\n",
       "      <td>digital-producer</td>\n",
       "      <td>Contract/Temp</td>\n",
       "      <td>53188289</td>\n",
       "      <td>1000</td>\n",
       "      <td>web</td>\n",
       "      <td>2021-07-28T13:31:16.990Z</td>\n",
       "      <td>6008</td>\n",
       "      <td>8-things-you-didnt-know-you-could-be-fired-for</td>\n",
       "      <td>1628767581.864</td>\n",
       "      <td>8-things-you-didnt-know-you-could-be-fired-for</td>\n",
       "      <td>8233</td>\n",
       "      <td>2021-07-13T11:26:21.494Z</td>\n",
       "      <td>top-2</td>\n",
       "      <td>521</td>\n",
       "      <td>NaN</td>\n",
       "    </tr>\n",
       "    <tr>\n",
       "      <th>4</th>\n",
       "      <td>b9c28b29e8ba56c15c80160fd02d5a00</td>\n",
       "      <td>52810782</td>\n",
       "      <td>1628761864.566</td>\n",
       "      <td>digital-content-writer</td>\n",
       "      <td>Full Time</td>\n",
       "      <td>52810782</td>\n",
       "      <td>1000</td>\n",
       "      <td>web</td>\n",
       "      <td>2021-07-13T09:51:03.635Z</td>\n",
       "      <td>6304</td>\n",
       "      <td>8-things-you-didnt-know-you-could-be-fired-for</td>\n",
       "      <td>1628767581.864</td>\n",
       "      <td>8-things-you-didnt-know-you-could-be-fired-for</td>\n",
       "      <td>8233</td>\n",
       "      <td>2021-07-13T11:26:21.494Z</td>\n",
       "      <td>top-2</td>\n",
       "      <td>521</td>\n",
       "      <td>NaN</td>\n",
       "    </tr>\n",
       "  </tbody>\n",
       "</table>\n",
       "</div>"
      ],
      "text/plain": [
       "                          visitorId job_number           ttl_x  \\\n",
       "0  611cf4dab22cf959871bd17c06033038   52980275  1628913888.305   \n",
       "1  b9c28b29e8ba56c15c80160fd02d5a00   53370609  1631081422.577   \n",
       "2  b9c28b29e8ba56c15c80160fd02d5a00   53177099    1630046188.4   \n",
       "3  b9c28b29e8ba56c15c80160fd02d5a00   53188289  1630071077.598   \n",
       "4  b9c28b29e8ba56c15c80160fd02d5a00   52810782  1628761864.566   \n",
       "\n",
       "                             roleId       workType     jobId  locationId  \\\n",
       "0                data-entry-officer  Contract/Temp  52980275        1015   \n",
       "1  marketing-communications-manager      Full Time  53370609        1000   \n",
       "2                        consultant  Contract/Temp  53177099        1000   \n",
       "3                  digital-producer  Contract/Temp  53188289        1000   \n",
       "4            digital-content-writer      Full Time  52810782        1000   \n",
       "\n",
       "  source                viewedAt_x  class  \\\n",
       "0    web  2021-07-15T04:04:47.529Z   6251   \n",
       "1    web  2021-08-09T06:10:21.971Z   6008   \n",
       "2    web  2021-07-28T06:36:28.052Z   6163   \n",
       "3    web  2021-07-28T13:31:16.990Z   6008   \n",
       "4    web  2021-07-13T09:51:03.635Z   6304   \n",
       "\n",
       "                                     article_name           ttl_y  \\\n",
       "0    4-ways-to-talk-confidently-about-your-skills  1629239903.735   \n",
       "1  8-things-you-didnt-know-you-could-be-fired-for  1628767581.864   \n",
       "2  8-things-you-didnt-know-you-could-be-fired-for  1628767581.864   \n",
       "3  8-things-you-didnt-know-you-could-be-fired-for  1628767581.864   \n",
       "4  8-things-you-didnt-know-you-could-be-fired-for  1628767581.864   \n",
       "\n",
       "                                            alias  articleId  \\\n",
       "0    4-ways-to-talk-confidently-about-your-skills      12712   \n",
       "1  8-things-you-didnt-know-you-could-be-fired-for       8233   \n",
       "2  8-things-you-didnt-know-you-could-be-fired-for       8233   \n",
       "3  8-things-you-didnt-know-you-could-be-fired-for       8233   \n",
       "4  8-things-you-didnt-know-you-could-be-fired-for       8233   \n",
       "\n",
       "                 viewedAt_y topCategoryId  mainCategoryId  tag  \n",
       "0  2021-07-18T22:38:22.528Z         top-2             522  NaN  \n",
       "1  2021-07-13T11:26:21.494Z         top-2             521  NaN  \n",
       "2  2021-07-13T11:26:21.494Z         top-2             521  NaN  \n",
       "3  2021-07-13T11:26:21.494Z         top-2             521  NaN  \n",
       "4  2021-07-13T11:26:21.494Z         top-2             521  NaN  "
      ]
     },
     "execution_count": 16,
     "metadata": {},
     "output_type": "execute_result"
    }
   ],
   "source": [
    "jobViewAndArticle1 = jobViewDf.merge(articleDf, on=[\"visitorId\"], how=\"inner\")\n",
    "jobViewAndArticle1.head()"
   ]
  },
  {
   "cell_type": "code",
   "execution_count": 27,
   "metadata": {},
   "outputs": [
    {
     "data": {
      "text/plain": [
       "(800, 18)"
      ]
     },
     "execution_count": 27,
     "metadata": {},
     "output_type": "execute_result"
    }
   ],
   "source": [
    "jobViewAndArticle1.shape"
   ]
  },
  {
   "cell_type": "code",
   "execution_count": 30,
   "metadata": {},
   "outputs": [
    {
     "name": "stdout",
     "output_type": "stream",
     "text": [
      "Conversion rate of job view to article view : 0.0014268948271495279\n"
     ]
    }
   ],
   "source": [
    "CRforViewandArticle1 = conversio_rate_calculation (800, 560658)\n",
    "print ('Conversion rate of job view to article view :', CRforViewandArticle1)"
   ]
  },
  {
   "cell_type": "code",
   "execution_count": 40,
   "metadata": {},
   "outputs": [
    {
     "data": {
      "text/plain": [
       "locationId\n",
       "1002    228\n",
       "1000    132\n",
       "1004    104\n",
       "1009     62\n",
       "1007     61\n",
       "dtype: int64"
      ]
     },
     "execution_count": 40,
     "metadata": {},
     "output_type": "execute_result"
    }
   ],
   "source": [
    "GroupedDataVandA1 = jobViewAndArticle1.groupby(by=\"locationId\").size().sort_values(ascending=False)\n",
    "GroupedDataVandA1.head()"
   ]
  },
  {
   "cell_type": "code",
   "execution_count": 41,
   "metadata": {},
   "outputs": [
    {
     "data": {
      "text/plain": [
       "<matplotlib.axes._subplots.AxesSubplot at 0x1ffad531f48>"
      ]
     },
     "execution_count": 41,
     "metadata": {},
     "output_type": "execute_result"
    },
    {
     "data": {
      "image/png": "[encoded data removed]",
      "text/plain": [
       "<Figure size 432x288 with 1 Axes>"
      ]
     },
     "metadata": {
      "needs_background": "light"
     },
     "output_type": "display_data"
    }
   ],
   "source": [
    "GroupedDataVandA1.plot.bar(color=['green'])"
   ]
  },
  {
   "cell_type": "markdown",
   "metadata": {},
   "source": [
    "# job search and job view on viewedAt #2"
   ]
  },
  {
   "cell_type": "code",
   "execution_count": 45,
   "metadata": {},
   "outputs": [
    {
     "name": "stdout",
     "output_type": "stream",
     "text": [
      "Collecting pandasql\n",
      "  Downloading pandasql-0.7.3.tar.gz (26 kB)\n",
      "Requirement already satisfied: numpy in c:\\users\\e94290\\anaconda3\\lib\\site-packages (from pandasql) (1.18.1)\n",
      "Requirement already satisfied: pandas in c:\\users\\e94290\\anaconda3\\lib\\site-packages (from pandasql) (1.0.1)\n",
      "Requirement already satisfied: sqlalchemy in c:\\users\\e94290\\anaconda3\\lib\\site-packages (from pandasql) (1.3.13)\n",
      "Requirement already satisfied: python-dateutil>=2.6.1 in c:\\users\\e94290\\anaconda3\\lib\\site-packages (from pandas->pandasql) (2.8.1)\n",
      "Requirement already satisfied: pytz>=2017.2 in c:\\users\\e94290\\anaconda3\\lib\\site-packages (from pandas->pandasql) (2019.3)\n",
      "Requirement already satisfied: six>=1.5 in c:\\users\\e94290\\anaconda3\\lib\\site-packages (from python-dateutil>=2.6.1->pandas->pandasql) (1.14.0)\n",
      "Building wheels for collected packages: pandasql\n",
      "  Building wheel for pandasql (setup.py): started\n",
      "  Building wheel for pandasql (setup.py): finished with status 'done'\n",
      "  Created wheel for pandasql: filename=pandasql-0.7.3-py3-none-any.whl size=26822 sha256=4c047c6e1ce1f5620ab1e5acbb05fede49b9cb60a1da36b23105e392b771f6b7\n",
      "  Stored in directory: c:\\users\\e94290\\appdata\\local\\pip\\cache\\wheels\\5c\\4b\\ec\\41f4e116c8053c3654e2c2a47c62b4fca34cc67ef7b55deb7f\n",
      "Successfully built pandasql\n",
      "Installing collected packages: pandasql\n",
      "Successfully installed pandasql-0.7.3\n"
     ]
    }
   ],
   "source": [
    "! pip install pandasql"
   ]
  },
  {
   "cell_type": "code",
   "execution_count": 46,
   "metadata": {},
   "outputs": [],
   "source": [
    "import pandasql as ps"
   ]
  },
  {
   "cell_type": "code",
   "execution_count": 49,
   "metadata": {},
   "outputs": [],
   "source": [
    "sqlcode = '''\n",
    "select jobSearchDf.visitorId\n",
    "from jobSearchDf\n",
    "inner join jobViewDf on jobSearchDf.visitorId=jobViewDf.visitorId\n",
    "where jobSearchDf.viewedAt BETWEEN jobViewDf.viewedAt +12 AND jobViewDf.viewedAt -12 \n",
    "group by jobSearchDf.visitorId\n",
    "'''\n",
    "newdf = ps.sqldf(sqlcode,locals())"
   ]
  },
  {
   "cell_type": "code",
   "execution_count": 51,
   "metadata": {},
   "outputs": [
    {
     "data": {
      "text/plain": [
       "(0, 1)"
      ]
     },
     "execution_count": 51,
     "metadata": {},
     "output_type": "execute_result"
    }
   ],
   "source": [
    "newdf.shape"
   ]
  },
  {
   "cell_type": "markdown",
   "metadata": {},
   "source": [
    "# Time change to timestamps "
   ]
  },
  {
   "cell_type": "code",
   "execution_count": 64,
   "metadata": {},
   "outputs": [
    {
     "ename": "TypeError",
     "evalue": "Cannot convert tz-naive timestamps, use tz_localize to localize",
     "output_type": "error",
     "traceback": [
      "\u001b[1;31m---------------------------------------------------------------------------\u001b[0m",
      "\u001b[1;31mTypeError\u001b[0m                                 Traceback (most recent call last)",
      "\u001b[1;32m<ipython-input-64-e6113324953d>\u001b[0m in \u001b[0;36m<module>\u001b[1;34m\u001b[0m\n\u001b[1;32m----> 1\u001b[1;33m \u001b[0mjobSearchDf\u001b[0m\u001b[1;33m[\u001b[0m\u001b[1;34m'viewedAt'\u001b[0m\u001b[1;33m]\u001b[0m \u001b[1;33m=\u001b[0m \u001b[0mpd\u001b[0m\u001b[1;33m.\u001b[0m\u001b[0mto_datetime\u001b[0m\u001b[1;33m(\u001b[0m\u001b[0mjobSearchDf\u001b[0m\u001b[1;33m[\u001b[0m\u001b[1;34m'viewedAt'\u001b[0m\u001b[1;33m]\u001b[0m\u001b[1;33m)\u001b[0m\u001b[1;33m.\u001b[0m\u001b[0mdt\u001b[0m\u001b[1;33m.\u001b[0m\u001b[0mtz_convert\u001b[0m\u001b[1;33m(\u001b[0m\u001b[1;32mNone\u001b[0m\u001b[1;33m)\u001b[0m\u001b[1;33m\u001b[0m\u001b[1;33m\u001b[0m\u001b[0m\n\u001b[0m",
      "\u001b[1;32m~\\Anaconda3\\lib\\site-packages\\pandas\\core\\accessor.py\u001b[0m in \u001b[0;36mf\u001b[1;34m(self, *args, **kwargs)\u001b[0m\n\u001b[0;32m     97\u001b[0m         \u001b[1;32mdef\u001b[0m \u001b[0m_create_delegator_method\u001b[0m\u001b[1;33m(\u001b[0m\u001b[0mname\u001b[0m\u001b[1;33m)\u001b[0m\u001b[1;33m:\u001b[0m\u001b[1;33m\u001b[0m\u001b[1;33m\u001b[0m\u001b[0m\n\u001b[0;32m     98\u001b[0m             \u001b[1;32mdef\u001b[0m \u001b[0mf\u001b[0m\u001b[1;33m(\u001b[0m\u001b[0mself\u001b[0m\u001b[1;33m,\u001b[0m \u001b[1;33m*\u001b[0m\u001b[0margs\u001b[0m\u001b[1;33m,\u001b[0m \u001b[1;33m**\u001b[0m\u001b[0mkwargs\u001b[0m\u001b[1;33m)\u001b[0m\u001b[1;33m:\u001b[0m\u001b[1;33m\u001b[0m\u001b[1;33m\u001b[0m\u001b[0m\n\u001b[1;32m---> 99\u001b[1;33m                 \u001b[1;32mreturn\u001b[0m \u001b[0mself\u001b[0m\u001b[1;33m.\u001b[0m\u001b[0m_delegate_method\u001b[0m\u001b[1;33m(\u001b[0m\u001b[0mname\u001b[0m\u001b[1;33m,\u001b[0m \u001b[1;33m*\u001b[0m\u001b[0margs\u001b[0m\u001b[1;33m,\u001b[0m \u001b[1;33m**\u001b[0m\u001b[0mkwargs\u001b[0m\u001b[1;33m)\u001b[0m\u001b[1;33m\u001b[0m\u001b[1;33m\u001b[0m\u001b[0m\n\u001b[0m\u001b[0;32m    100\u001b[0m \u001b[1;33m\u001b[0m\u001b[0m\n\u001b[0;32m    101\u001b[0m             \u001b[0mf\u001b[0m\u001b[1;33m.\u001b[0m\u001b[0m__name__\u001b[0m \u001b[1;33m=\u001b[0m \u001b[0mname\u001b[0m\u001b[1;33m\u001b[0m\u001b[1;33m\u001b[0m\u001b[0m\n",
      "\u001b[1;32m~\\Anaconda3\\lib\\site-packages\\pandas\\core\\indexes\\accessors.py\u001b[0m in \u001b[0;36m_delegate_method\u001b[1;34m(self, name, *args, **kwargs)\u001b[0m\n\u001b[0;32m    101\u001b[0m \u001b[1;33m\u001b[0m\u001b[0m\n\u001b[0;32m    102\u001b[0m         \u001b[0mmethod\u001b[0m \u001b[1;33m=\u001b[0m \u001b[0mgetattr\u001b[0m\u001b[1;33m(\u001b[0m\u001b[0mvalues\u001b[0m\u001b[1;33m,\u001b[0m \u001b[0mname\u001b[0m\u001b[1;33m)\u001b[0m\u001b[1;33m\u001b[0m\u001b[1;33m\u001b[0m\u001b[0m\n\u001b[1;32m--> 103\u001b[1;33m         \u001b[0mresult\u001b[0m \u001b[1;33m=\u001b[0m \u001b[0mmethod\u001b[0m\u001b[1;33m(\u001b[0m\u001b[1;33m*\u001b[0m\u001b[0margs\u001b[0m\u001b[1;33m,\u001b[0m \u001b[1;33m**\u001b[0m\u001b[0mkwargs\u001b[0m\u001b[1;33m)\u001b[0m\u001b[1;33m\u001b[0m\u001b[1;33m\u001b[0m\u001b[0m\n\u001b[0m\u001b[0;32m    104\u001b[0m \u001b[1;33m\u001b[0m\u001b[0m\n\u001b[0;32m    105\u001b[0m         \u001b[1;32mif\u001b[0m \u001b[1;32mnot\u001b[0m \u001b[0mis_list_like\u001b[0m\u001b[1;33m(\u001b[0m\u001b[0mresult\u001b[0m\u001b[1;33m)\u001b[0m\u001b[1;33m:\u001b[0m\u001b[1;33m\u001b[0m\u001b[1;33m\u001b[0m\u001b[0m\n",
      "\u001b[1;32m~\\Anaconda3\\lib\\site-packages\\pandas\\core\\accessor.py\u001b[0m in \u001b[0;36mf\u001b[1;34m(self, *args, **kwargs)\u001b[0m\n\u001b[0;32m     97\u001b[0m         \u001b[1;32mdef\u001b[0m \u001b[0m_create_delegator_method\u001b[0m\u001b[1;33m(\u001b[0m\u001b[0mname\u001b[0m\u001b[1;33m)\u001b[0m\u001b[1;33m:\u001b[0m\u001b[1;33m\u001b[0m\u001b[1;33m\u001b[0m\u001b[0m\n\u001b[0;32m     98\u001b[0m             \u001b[1;32mdef\u001b[0m \u001b[0mf\u001b[0m\u001b[1;33m(\u001b[0m\u001b[0mself\u001b[0m\u001b[1;33m,\u001b[0m \u001b[1;33m*\u001b[0m\u001b[0margs\u001b[0m\u001b[1;33m,\u001b[0m \u001b[1;33m**\u001b[0m\u001b[0mkwargs\u001b[0m\u001b[1;33m)\u001b[0m\u001b[1;33m:\u001b[0m\u001b[1;33m\u001b[0m\u001b[1;33m\u001b[0m\u001b[0m\n\u001b[1;32m---> 99\u001b[1;33m                 \u001b[1;32mreturn\u001b[0m \u001b[0mself\u001b[0m\u001b[1;33m.\u001b[0m\u001b[0m_delegate_method\u001b[0m\u001b[1;33m(\u001b[0m\u001b[0mname\u001b[0m\u001b[1;33m,\u001b[0m \u001b[1;33m*\u001b[0m\u001b[0margs\u001b[0m\u001b[1;33m,\u001b[0m \u001b[1;33m**\u001b[0m\u001b[0mkwargs\u001b[0m\u001b[1;33m)\u001b[0m\u001b[1;33m\u001b[0m\u001b[1;33m\u001b[0m\u001b[0m\n\u001b[0m\u001b[0;32m    100\u001b[0m \u001b[1;33m\u001b[0m\u001b[0m\n\u001b[0;32m    101\u001b[0m             \u001b[0mf\u001b[0m\u001b[1;33m.\u001b[0m\u001b[0m__name__\u001b[0m \u001b[1;33m=\u001b[0m \u001b[0mname\u001b[0m\u001b[1;33m\u001b[0m\u001b[1;33m\u001b[0m\u001b[0m\n",
      "\u001b[1;32m~\\Anaconda3\\lib\\site-packages\\pandas\\core\\indexes\\datetimelike.py\u001b[0m in \u001b[0;36m_delegate_method\u001b[1;34m(self, name, *args, **kwargs)\u001b[0m\n\u001b[0;32m    908\u001b[0m \u001b[1;33m\u001b[0m\u001b[0m\n\u001b[0;32m    909\u001b[0m     \u001b[1;32mdef\u001b[0m \u001b[0m_delegate_method\u001b[0m\u001b[1;33m(\u001b[0m\u001b[0mself\u001b[0m\u001b[1;33m,\u001b[0m \u001b[0mname\u001b[0m\u001b[1;33m,\u001b[0m \u001b[1;33m*\u001b[0m\u001b[0margs\u001b[0m\u001b[1;33m,\u001b[0m \u001b[1;33m**\u001b[0m\u001b[0mkwargs\u001b[0m\u001b[1;33m)\u001b[0m\u001b[1;33m:\u001b[0m\u001b[1;33m\u001b[0m\u001b[1;33m\u001b[0m\u001b[0m\n\u001b[1;32m--> 910\u001b[1;33m         \u001b[0mresult\u001b[0m \u001b[1;33m=\u001b[0m \u001b[0moperator\u001b[0m\u001b[1;33m.\u001b[0m\u001b[0mmethodcaller\u001b[0m\u001b[1;33m(\u001b[0m\u001b[0mname\u001b[0m\u001b[1;33m,\u001b[0m \u001b[1;33m*\u001b[0m\u001b[0margs\u001b[0m\u001b[1;33m,\u001b[0m \u001b[1;33m**\u001b[0m\u001b[0mkwargs\u001b[0m\u001b[1;33m)\u001b[0m\u001b[1;33m(\u001b[0m\u001b[0mself\u001b[0m\u001b[1;33m.\u001b[0m\u001b[0m_data\u001b[0m\u001b[1;33m)\u001b[0m\u001b[1;33m\u001b[0m\u001b[1;33m\u001b[0m\u001b[0m\n\u001b[0m\u001b[0;32m    911\u001b[0m         \u001b[1;32mif\u001b[0m \u001b[0mname\u001b[0m \u001b[1;32mnot\u001b[0m \u001b[1;32min\u001b[0m \u001b[0mself\u001b[0m\u001b[1;33m.\u001b[0m\u001b[0m_raw_methods\u001b[0m\u001b[1;33m:\u001b[0m\u001b[1;33m\u001b[0m\u001b[1;33m\u001b[0m\u001b[0m\n\u001b[0;32m    912\u001b[0m             \u001b[0mresult\u001b[0m \u001b[1;33m=\u001b[0m \u001b[0mIndex\u001b[0m\u001b[1;33m(\u001b[0m\u001b[0mresult\u001b[0m\u001b[1;33m,\u001b[0m \u001b[0mname\u001b[0m\u001b[1;33m=\u001b[0m\u001b[0mself\u001b[0m\u001b[1;33m.\u001b[0m\u001b[0mname\u001b[0m\u001b[1;33m)\u001b[0m\u001b[1;33m\u001b[0m\u001b[1;33m\u001b[0m\u001b[0m\n",
      "\u001b[1;32m~\\Anaconda3\\lib\\site-packages\\pandas\\core\\arrays\\datetimes.py\u001b[0m in \u001b[0;36mtz_convert\u001b[1;34m(self, tz)\u001b[0m\n\u001b[0;32m    816\u001b[0m             \u001b[1;31m# tz naive, use tz_localize\u001b[0m\u001b[1;33m\u001b[0m\u001b[1;33m\u001b[0m\u001b[1;33m\u001b[0m\u001b[0m\n\u001b[0;32m    817\u001b[0m             raise TypeError(\n\u001b[1;32m--> 818\u001b[1;33m                 \u001b[1;34m\"Cannot convert tz-naive timestamps, use tz_localize to localize\"\u001b[0m\u001b[1;33m\u001b[0m\u001b[1;33m\u001b[0m\u001b[0m\n\u001b[0m\u001b[0;32m    819\u001b[0m             )\n\u001b[0;32m    820\u001b[0m \u001b[1;33m\u001b[0m\u001b[0m\n",
      "\u001b[1;31mTypeError\u001b[0m: Cannot convert tz-naive timestamps, use tz_localize to localize"
     ]
    }
   ],
   "source": [
    "jobSearchDf['viewedAt'] = pd.to_datetime(jobSearchDf['viewedAt']).dt.tz_convert(None)"
   ]
  },
  {
   "cell_type": "code",
   "execution_count": 63,
   "metadata": {},
   "outputs": [
    {
     "data": {
      "text/html": [
       "<div>\n",
       "<style scoped>\n",
       "    .dataframe tbody tr th:only-of-type {\n",
       "        vertical-align: middle;\n",
       "    }\n",
       "\n",
       "    .dataframe tbody tr th {\n",
       "        vertical-align: top;\n",
       "    }\n",
       "\n",
       "    .dataframe thead th {\n",
       "        text-align: right;\n",
       "    }\n",
       "</style>\n",
       "<table border=\"1\" class=\"dataframe\">\n",
       "  <thead>\n",
       "    <tr style=\"text-align: right;\">\n",
       "      <th></th>\n",
       "      <th>visitorId</th>\n",
       "      <th>job_name</th>\n",
       "      <th>ttl</th>\n",
       "      <th>roleId</th>\n",
       "      <th>where</th>\n",
       "      <th>source</th>\n",
       "      <th>viewedAt</th>\n",
       "      <th>keywords</th>\n",
       "    </tr>\n",
       "  </thead>\n",
       "  <tbody>\n",
       "    <tr>\n",
       "      <th>0</th>\n",
       "      <td>23a9d176cb0a6f4e41f26bb61167bd78</td>\n",
       "      <td>waitstaff</td>\n",
       "      <td>1631185958.2</td>\n",
       "      <td>waitstaff</td>\n",
       "      <td>All Adelaide SA</td>\n",
       "      <td>web</td>\n",
       "      <td>2021-08-10 11:12:37.145</td>\n",
       "      <td>NaN</td>\n",
       "    </tr>\n",
       "    <tr>\n",
       "      <th>2</th>\n",
       "      <td>906053f95a33732f207cdded4ebcb320</td>\n",
       "      <td>aged-care-physiotherapist</td>\n",
       "      <td>1629873562.072</td>\n",
       "      <td>aged-care-physiotherapist</td>\n",
       "      <td>Rockhampton &amp; Capricorn Coast QLD</td>\n",
       "      <td>web</td>\n",
       "      <td>2021-07-26 06:39:21.174</td>\n",
       "      <td>physiotherapist</td>\n",
       "    </tr>\n",
       "    <tr>\n",
       "      <th>3</th>\n",
       "      <td>de3043ff16009134fe548446c1b84b1f</td>\n",
       "      <td>business-development</td>\n",
       "      <td>1631236371.018</td>\n",
       "      <td>business-development</td>\n",
       "      <td>NaN</td>\n",
       "      <td>web</td>\n",
       "      <td>2021-08-11 01:12:50.446</td>\n",
       "      <td>intern</td>\n",
       "    </tr>\n",
       "    <tr>\n",
       "      <th>4</th>\n",
       "      <td>1a48d73af464a96f4b7365261d605147</td>\n",
       "      <td>office-administrator</td>\n",
       "      <td>1630667899.384</td>\n",
       "      <td>office-administrator</td>\n",
       "      <td>All Canberra ACT</td>\n",
       "      <td>web</td>\n",
       "      <td>2021-08-04 11:18:18.968</td>\n",
       "      <td>no experience</td>\n",
       "    </tr>\n",
       "    <tr>\n",
       "      <th>5</th>\n",
       "      <td>87ab366c176cfcd792d4da020fabed78</td>\n",
       "      <td>Warehouse-Administration-Officer</td>\n",
       "      <td>1629597413.083</td>\n",
       "      <td>Warehouse-Administration-Officer</td>\n",
       "      <td>NaN</td>\n",
       "      <td>web</td>\n",
       "      <td>2021-07-23 01:56:52.167</td>\n",
       "      <td>NaN</td>\n",
       "    </tr>\n",
       "  </tbody>\n",
       "</table>\n",
       "</div>"
      ],
      "text/plain": [
       "                          visitorId                          job_name  \\\n",
       "0  23a9d176cb0a6f4e41f26bb61167bd78                         waitstaff   \n",
       "2  906053f95a33732f207cdded4ebcb320         aged-care-physiotherapist   \n",
       "3  de3043ff16009134fe548446c1b84b1f              business-development   \n",
       "4  1a48d73af464a96f4b7365261d605147              office-administrator   \n",
       "5  87ab366c176cfcd792d4da020fabed78  Warehouse-Administration-Officer   \n",
       "\n",
       "              ttl                            roleId  \\\n",
       "0    1631185958.2                         waitstaff   \n",
       "2  1629873562.072         aged-care-physiotherapist   \n",
       "3  1631236371.018              business-development   \n",
       "4  1630667899.384              office-administrator   \n",
       "5  1629597413.083  Warehouse-Administration-Officer   \n",
       "\n",
       "                               where source                viewedAt  \\\n",
       "0                    All Adelaide SA    web 2021-08-10 11:12:37.145   \n",
       "2  Rockhampton & Capricorn Coast QLD    web 2021-07-26 06:39:21.174   \n",
       "3                                NaN    web 2021-08-11 01:12:50.446   \n",
       "4                   All Canberra ACT    web 2021-08-04 11:18:18.968   \n",
       "5                                NaN    web 2021-07-23 01:56:52.167   \n",
       "\n",
       "          keywords  \n",
       "0              NaN  \n",
       "2  physiotherapist  \n",
       "3           intern  \n",
       "4    no experience  \n",
       "5              NaN  "
      ]
     },
     "execution_count": 63,
     "metadata": {},
     "output_type": "execute_result"
    }
   ],
   "source": [
    "jobSearchDf.head()"
   ]
  },
  {
   "cell_type": "code",
   "execution_count": 66,
   "metadata": {},
   "outputs": [],
   "source": [
    "jobViewDf['viewedAt'] = pd.to_datetime(jobViewDf['viewedAt']).dt.tz_convert(None)"
   ]
  },
  {
   "cell_type": "code",
   "execution_count": 67,
   "metadata": {},
   "outputs": [
    {
     "data": {
      "text/html": [
       "<div>\n",
       "<style scoped>\n",
       "    .dataframe tbody tr th:only-of-type {\n",
       "        vertical-align: middle;\n",
       "    }\n",
       "\n",
       "    .dataframe tbody tr th {\n",
       "        vertical-align: top;\n",
       "    }\n",
       "\n",
       "    .dataframe thead th {\n",
       "        text-align: right;\n",
       "    }\n",
       "</style>\n",
       "<table border=\"1\" class=\"dataframe\">\n",
       "  <thead>\n",
       "    <tr style=\"text-align: right;\">\n",
       "      <th></th>\n",
       "      <th>visitorId</th>\n",
       "      <th>job_number</th>\n",
       "      <th>ttl</th>\n",
       "      <th>roleId</th>\n",
       "      <th>workType</th>\n",
       "      <th>jobId</th>\n",
       "      <th>locationId</th>\n",
       "      <th>source</th>\n",
       "      <th>viewedAt</th>\n",
       "      <th>class</th>\n",
       "    </tr>\n",
       "  </thead>\n",
       "  <tbody>\n",
       "    <tr>\n",
       "      <th>1</th>\n",
       "      <td>820c8d6b90bfc3154ea241f20383313c</td>\n",
       "      <td>52939023</td>\n",
       "      <td>1629198877.076</td>\n",
       "      <td>care-coordinator</td>\n",
       "      <td>Full Time</td>\n",
       "      <td>52939023</td>\n",
       "      <td>5061</td>\n",
       "      <td>web</td>\n",
       "      <td>2021-07-18 11:14:36.259</td>\n",
       "      <td>6163</td>\n",
       "    </tr>\n",
       "    <tr>\n",
       "      <th>6</th>\n",
       "      <td>3124ccf1f4a299a5a619cb69a5b2ac24</td>\n",
       "      <td>53096747</td>\n",
       "      <td>1629565817.937</td>\n",
       "      <td>warehouse-operator</td>\n",
       "      <td>Contract/Temp</td>\n",
       "      <td>53096747</td>\n",
       "      <td>1002</td>\n",
       "      <td>web</td>\n",
       "      <td>2021-07-22 17:10:16.919</td>\n",
       "      <td>6092</td>\n",
       "    </tr>\n",
       "    <tr>\n",
       "      <th>11</th>\n",
       "      <td>bd028c3b0e14f0c0ce9c157c50bcbc89</td>\n",
       "      <td>52765158</td>\n",
       "      <td>1629330148.315</td>\n",
       "      <td>safety-engineer</td>\n",
       "      <td>Full Time</td>\n",
       "      <td>52765158</td>\n",
       "      <td>1002</td>\n",
       "      <td>web</td>\n",
       "      <td>2021-07-19 23:42:27.565</td>\n",
       "      <td>1209</td>\n",
       "    </tr>\n",
       "    <tr>\n",
       "      <th>12</th>\n",
       "      <td>8204f1a52774ddf567403901aab347ec</td>\n",
       "      <td>52784534</td>\n",
       "      <td>1630154087.209</td>\n",
       "      <td>talent-acquisition-consultant</td>\n",
       "      <td>Full Time</td>\n",
       "      <td>52784534</td>\n",
       "      <td>1000</td>\n",
       "      <td>web</td>\n",
       "      <td>2021-07-29 12:34:46.642</td>\n",
       "      <td>1210</td>\n",
       "    </tr>\n",
       "    <tr>\n",
       "      <th>13</th>\n",
       "      <td>53278fbd8061da990a9e0715150e96db</td>\n",
       "      <td>52914193</td>\n",
       "      <td>1630199890.077</td>\n",
       "      <td>sales-support</td>\n",
       "      <td>Full Time</td>\n",
       "      <td>52914193</td>\n",
       "      <td>5047</td>\n",
       "      <td>web</td>\n",
       "      <td>2021-07-30 01:18:09.283</td>\n",
       "      <td>1204</td>\n",
       "    </tr>\n",
       "  </tbody>\n",
       "</table>\n",
       "</div>"
      ],
      "text/plain": [
       "                           visitorId job_number             ttl  \\\n",
       "1   820c8d6b90bfc3154ea241f20383313c   52939023  1629198877.076   \n",
       "6   3124ccf1f4a299a5a619cb69a5b2ac24   53096747  1629565817.937   \n",
       "11  bd028c3b0e14f0c0ce9c157c50bcbc89   52765158  1629330148.315   \n",
       "12  8204f1a52774ddf567403901aab347ec   52784534  1630154087.209   \n",
       "13  53278fbd8061da990a9e0715150e96db   52914193  1630199890.077   \n",
       "\n",
       "                           roleId       workType     jobId  locationId source  \\\n",
       "1                care-coordinator      Full Time  52939023        5061    web   \n",
       "6              warehouse-operator  Contract/Temp  53096747        1002    web   \n",
       "11                safety-engineer      Full Time  52765158        1002    web   \n",
       "12  talent-acquisition-consultant      Full Time  52784534        1000    web   \n",
       "13                  sales-support      Full Time  52914193        5047    web   \n",
       "\n",
       "                  viewedAt  class  \n",
       "1  2021-07-18 11:14:36.259   6163  \n",
       "6  2021-07-22 17:10:16.919   6092  \n",
       "11 2021-07-19 23:42:27.565   1209  \n",
       "12 2021-07-29 12:34:46.642   1210  \n",
       "13 2021-07-30 01:18:09.283   1204  "
      ]
     },
     "execution_count": 67,
     "metadata": {},
     "output_type": "execute_result"
    }
   ],
   "source": [
    "jobViewDf.head()"
   ]
  },
  {
   "cell_type": "code",
   "execution_count": 68,
   "metadata": {},
   "outputs": [],
   "source": [
    "articleDf['viewedAt'] = pd.to_datetime(articleDf['viewedAt']).dt.tz_convert(None)"
   ]
  },
  {
   "cell_type": "code",
   "execution_count": 69,
   "metadata": {},
   "outputs": [
    {
     "data": {
      "text/html": [
       "<div>\n",
       "<style scoped>\n",
       "    .dataframe tbody tr th:only-of-type {\n",
       "        vertical-align: middle;\n",
       "    }\n",
       "\n",
       "    .dataframe tbody tr th {\n",
       "        vertical-align: top;\n",
       "    }\n",
       "\n",
       "    .dataframe thead th {\n",
       "        text-align: right;\n",
       "    }\n",
       "</style>\n",
       "<table border=\"1\" class=\"dataframe\">\n",
       "  <thead>\n",
       "    <tr style=\"text-align: right;\">\n",
       "      <th></th>\n",
       "      <th>visitorId</th>\n",
       "      <th>article_name</th>\n",
       "      <th>ttl</th>\n",
       "      <th>alias</th>\n",
       "      <th>articleId</th>\n",
       "      <th>viewedAt</th>\n",
       "      <th>topCategoryId</th>\n",
       "      <th>mainCategoryId</th>\n",
       "      <th>tag</th>\n",
       "    </tr>\n",
       "  </thead>\n",
       "  <tbody>\n",
       "    <tr>\n",
       "      <th>32</th>\n",
       "      <td>1bb87dcbd0ee049d06dc435b3aa05715</td>\n",
       "      <td>the-5-skills-employers-want-now-and-how-to-show-them</td>\n",
       "      <td>1629182763.529</td>\n",
       "      <td>the-5-skills-employers-want-now-and-how-to-show-them</td>\n",
       "      <td>9090</td>\n",
       "      <td>2021-07-18 06:46:03.001</td>\n",
       "      <td>top-2</td>\n",
       "      <td>522</td>\n",
       "      <td>NaN</td>\n",
       "    </tr>\n",
       "    <tr>\n",
       "      <th>71</th>\n",
       "      <td>01fd8ac24911eeb68b02c57119590cd7</td>\n",
       "      <td>5-ways-to-deal-with-a-micromanaging-boss</td>\n",
       "      <td>1630782253.138</td>\n",
       "      <td>5-ways-to-deal-with-a-micromanaging-boss</td>\n",
       "      <td>701</td>\n",
       "      <td>2021-08-05 19:04:11.673</td>\n",
       "      <td>top-2</td>\n",
       "      <td>519</td>\n",
       "      <td>Settled</td>\n",
       "    </tr>\n",
       "    <tr>\n",
       "      <th>163</th>\n",
       "      <td>84a1de7f19962bb47229c8fa09ec45b9</td>\n",
       "      <td>5-ways-to-deal-with-a-micromanaging-boss</td>\n",
       "      <td>1629048840.676</td>\n",
       "      <td>5-ways-to-deal-with-a-micromanaging-boss</td>\n",
       "      <td>701</td>\n",
       "      <td>2021-07-16 17:33:59.421</td>\n",
       "      <td>top-2</td>\n",
       "      <td>519</td>\n",
       "      <td>Settled</td>\n",
       "    </tr>\n",
       "    <tr>\n",
       "      <th>282</th>\n",
       "      <td>6b058834e5f9b399d2f2a5acaed810f9</td>\n",
       "      <td>how-to-answer-where-do-you-see-yourself-in-5-years</td>\n",
       "      <td>1630297155.412</td>\n",
       "      <td>how-to-answer-where-do-you-see-yourself-in-5-years</td>\n",
       "      <td>331</td>\n",
       "      <td>2021-07-31 04:19:14.610</td>\n",
       "      <td>top-1</td>\n",
       "      <td>82</td>\n",
       "      <td>Active</td>\n",
       "    </tr>\n",
       "    <tr>\n",
       "      <th>295</th>\n",
       "      <td>be495cb086f0a1ac6e0b13ef2bbbe36b</td>\n",
       "      <td>free-resume-template</td>\n",
       "      <td>1628832286.052</td>\n",
       "      <td>free-resume-template</td>\n",
       "      <td>12</td>\n",
       "      <td>2021-07-14 05:24:45.205</td>\n",
       "      <td>top-0</td>\n",
       "      <td>289</td>\n",
       "      <td>Active</td>\n",
       "    </tr>\n",
       "  </tbody>\n",
       "</table>\n",
       "</div>"
      ],
      "text/plain": [
       "                            visitorId  \\\n",
       "32   1bb87dcbd0ee049d06dc435b3aa05715   \n",
       "71   01fd8ac24911eeb68b02c57119590cd7   \n",
       "163  84a1de7f19962bb47229c8fa09ec45b9   \n",
       "282  6b058834e5f9b399d2f2a5acaed810f9   \n",
       "295  be495cb086f0a1ac6e0b13ef2bbbe36b   \n",
       "\n",
       "                                             article_name             ttl  \\\n",
       "32   the-5-skills-employers-want-now-and-how-to-show-them  1629182763.529   \n",
       "71               5-ways-to-deal-with-a-micromanaging-boss  1630782253.138   \n",
       "163              5-ways-to-deal-with-a-micromanaging-boss  1629048840.676   \n",
       "282    how-to-answer-where-do-you-see-yourself-in-5-years  1630297155.412   \n",
       "295                                  free-resume-template  1628832286.052   \n",
       "\n",
       "                                                    alias  articleId  \\\n",
       "32   the-5-skills-employers-want-now-and-how-to-show-them       9090   \n",
       "71               5-ways-to-deal-with-a-micromanaging-boss        701   \n",
       "163              5-ways-to-deal-with-a-micromanaging-boss        701   \n",
       "282    how-to-answer-where-do-you-see-yourself-in-5-years        331   \n",
       "295                                  free-resume-template         12   \n",
       "\n",
       "                   viewedAt topCategoryId  mainCategoryId      tag  \n",
       "32  2021-07-18 06:46:03.001         top-2             522      NaN  \n",
       "71  2021-08-05 19:04:11.673         top-2             519  Settled  \n",
       "163 2021-07-16 17:33:59.421         top-2             519  Settled  \n",
       "282 2021-07-31 04:19:14.610         top-1              82   Active  \n",
       "295 2021-07-14 05:24:45.205         top-0             289   Active  "
      ]
     },
     "execution_count": 69,
     "metadata": {},
     "output_type": "execute_result"
    }
   ],
   "source": [
    "articleDf.head()"
   ]
  },
  {
   "cell_type": "code",
   "execution_count": 70,
   "metadata": {},
   "outputs": [],
   "source": [
    "sqlcode = '''\n",
    "select jobSearchDf.visitorId\n",
    "from jobSearchDf\n",
    "inner join jobViewDf on jobSearchDf.visitorId=jobViewDf.visitorId\n",
    "where jobSearchDf.viewedAt BETWEEN jobViewDf.viewedAt +12 AND jobViewDf.viewedAt -12 \n",
    "group by jobSearchDf.visitorId\n",
    "'''\n",
    "newdf = ps.sqldf(sqlcode,locals())"
   ]
  },
  {
   "cell_type": "code",
   "execution_count": null,
   "metadata": {},
   "outputs": [],
   "source": []
  }
 ],
 "metadata": {
  "kernelspec": {
   "display_name": "Python 3",
   "language": "python",
   "name": "python3"
  },
  "language_info": {
   "codemirror_mode": {
    "name": "ipython",
    "version": 3
   },
   "file_extension": ".py",
   "mimetype": "text/x-python",
   "name": "python",
   "nbconvert_exporter": "python",
   "pygments_lexer": "ipython3",
   "version": "3.7.6"
  }
 },
 "nbformat": 4,
 "nbformat_minor": 4
}
